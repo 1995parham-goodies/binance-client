{
 "cells": [
  {
   "cell_type": "code",
   "execution_count": 1,
   "id": "0c55cd68-f759-4547-a700-63db8c8b5d15",
   "metadata": {},
   "outputs": [],
   "source": [
    "import polars as pl"
   ]
  },
  {
   "cell_type": "code",
   "execution_count": 2,
   "id": "b09d18f6-e9d5-4db2-8868-a22f086137b1",
   "metadata": {},
   "outputs": [],
   "source": [
    "df = pl.read_csv('BTCUSDT-bookTicker-2024-02-06.csv')"
   ]
  },
  {
   "cell_type": "code",
   "execution_count": 3,
   "id": "5d4e5a95-bd5d-4fdd-993a-5bafa43921da",
   "metadata": {},
   "outputs": [
    {
     "data": {
      "text/html": [
       "<div><style>\n",
       ".dataframe > thead > tr,\n",
       ".dataframe > tbody > tr {\n",
       "  text-align: right;\n",
       "  white-space: pre-wrap;\n",
       "}\n",
       "</style>\n",
       "<small>shape: (27_540_073, 7)</small><table border=\"1\" class=\"dataframe\"><thead><tr><th>update_id</th><th>best_bid_price</th><th>best_bid_qty</th><th>best_ask_price</th><th>best_ask_qty</th><th>transaction_time</th><th>event_time</th></tr><tr><td>i64</td><td>f64</td><td>f64</td><td>f64</td><td>f64</td><td>i64</td><td>i64</td></tr></thead><tbody><tr><td>3936653543857</td><td>42692.9</td><td>0.587</td><td>42693.0</td><td>5.645</td><td>1707177600000</td><td>1707177600004</td></tr><tr><td>3939719410110</td><td>43233.4</td><td>0.846</td><td>43233.6</td><td>10.399</td><td>1707235233178</td><td>1707235233182</td></tr><tr><td>3936653543872</td><td>42692.9</td><td>0.584</td><td>42693.0</td><td>5.645</td><td>1707177600000</td><td>1707177600004</td></tr><tr><td>3939719410130</td><td>43233.4</td><td>0.846</td><td>43233.6</td><td>10.636</td><td>1707235233178</td><td>1707235233182</td></tr><tr><td>3936653543878</td><td>42692.9</td><td>0.562</td><td>42693.0</td><td>5.645</td><td>1707177600000</td><td>1707177600004</td></tr><tr><td>&hellip;</td><td>&hellip;</td><td>&hellip;</td><td>&hellip;</td><td>&hellip;</td><td>&hellip;</td><td>&hellip;</td></tr><tr><td>3939719409832</td><td>43233.5</td><td>0.068</td><td>43233.6</td><td>7.525</td><td>1707235233177</td><td>1707235233181</td></tr><tr><td>3939719409834</td><td>43233.5</td><td>0.068</td><td>43233.6</td><td>8.725</td><td>1707235233177</td><td>1707235233181</td></tr><tr><td>3939719409900</td><td>43233.5</td><td>0.068</td><td>43233.6</td><td>9.393</td><td>1707235233177</td><td>1707235233181</td></tr><tr><td>3939719409990</td><td>43233.5</td><td>0.068</td><td>43233.6</td><td>9.748</td><td>1707235233177</td><td>1707235233182</td></tr><tr><td>3939719410015</td><td>43233.4</td><td>0.846</td><td>43233.6</td><td>9.748</td><td>1707235233177</td><td>1707235233182</td></tr></tbody></table></div>"
      ],
      "text/plain": [
       "shape: (27_540_073, 7)\n",
       "┌──────────────┬─────────────┬─────────────┬─────────────┬─────────────┬─────────────┬─────────────┐\n",
       "│ update_id    ┆ best_bid_pr ┆ best_bid_qt ┆ best_ask_pr ┆ best_ask_qt ┆ transaction ┆ event_time  │\n",
       "│ ---          ┆ ice         ┆ y           ┆ ice         ┆ y           ┆ _time       ┆ ---         │\n",
       "│ i64          ┆ ---         ┆ ---         ┆ ---         ┆ ---         ┆ ---         ┆ i64         │\n",
       "│              ┆ f64         ┆ f64         ┆ f64         ┆ f64         ┆ i64         ┆             │\n",
       "╞══════════════╪═════════════╪═════════════╪═════════════╪═════════════╪═════════════╪═════════════╡\n",
       "│ 393665354385 ┆ 42692.9     ┆ 0.587       ┆ 42693.0     ┆ 5.645       ┆ 17071776000 ┆ 17071776000 │\n",
       "│ 7            ┆             ┆             ┆             ┆             ┆ 00          ┆ 04          │\n",
       "│ 393971941011 ┆ 43233.4     ┆ 0.846       ┆ 43233.6     ┆ 10.399      ┆ 17072352331 ┆ 17072352331 │\n",
       "│ 0            ┆             ┆             ┆             ┆             ┆ 78          ┆ 82          │\n",
       "│ 393665354387 ┆ 42692.9     ┆ 0.584       ┆ 42693.0     ┆ 5.645       ┆ 17071776000 ┆ 17071776000 │\n",
       "│ 2            ┆             ┆             ┆             ┆             ┆ 00          ┆ 04          │\n",
       "│ 393971941013 ┆ 43233.4     ┆ 0.846       ┆ 43233.6     ┆ 10.636      ┆ 17072352331 ┆ 17072352331 │\n",
       "│ 0            ┆             ┆             ┆             ┆             ┆ 78          ┆ 82          │\n",
       "│ 393665354387 ┆ 42692.9     ┆ 0.562       ┆ 42693.0     ┆ 5.645       ┆ 17071776000 ┆ 17071776000 │\n",
       "│ 8            ┆             ┆             ┆             ┆             ┆ 00          ┆ 04          │\n",
       "│ …            ┆ …           ┆ …           ┆ …           ┆ …           ┆ …           ┆ …           │\n",
       "│ 393971940983 ┆ 43233.5     ┆ 0.068       ┆ 43233.6     ┆ 7.525       ┆ 17072352331 ┆ 17072352331 │\n",
       "│ 2            ┆             ┆             ┆             ┆             ┆ 77          ┆ 81          │\n",
       "│ 393971940983 ┆ 43233.5     ┆ 0.068       ┆ 43233.6     ┆ 8.725       ┆ 17072352331 ┆ 17072352331 │\n",
       "│ 4            ┆             ┆             ┆             ┆             ┆ 77          ┆ 81          │\n",
       "│ 393971940990 ┆ 43233.5     ┆ 0.068       ┆ 43233.6     ┆ 9.393       ┆ 17072352331 ┆ 17072352331 │\n",
       "│ 0            ┆             ┆             ┆             ┆             ┆ 77          ┆ 81          │\n",
       "│ 393971940999 ┆ 43233.5     ┆ 0.068       ┆ 43233.6     ┆ 9.748       ┆ 17072352331 ┆ 17072352331 │\n",
       "│ 0            ┆             ┆             ┆             ┆             ┆ 77          ┆ 82          │\n",
       "│ 393971941001 ┆ 43233.4     ┆ 0.846       ┆ 43233.6     ┆ 9.748       ┆ 17072352331 ┆ 17072352331 │\n",
       "│ 5            ┆             ┆             ┆             ┆             ┆ 77          ┆ 82          │\n",
       "└──────────────┴─────────────┴─────────────┴─────────────┴─────────────┴─────────────┴─────────────┘"
      ]
     },
     "execution_count": 3,
     "metadata": {},
     "output_type": "execute_result"
    }
   ],
   "source": [
    "df"
   ]
  }
 ],
 "metadata": {
  "kernelspec": {
   "display_name": "Python 3 (ipykernel)",
   "language": "python",
   "name": "python3"
  },
  "language_info": {
   "codemirror_mode": {
    "name": "ipython",
    "version": 3
   },
   "file_extension": ".py",
   "mimetype": "text/x-python",
   "name": "python",
   "nbconvert_exporter": "python",
   "pygments_lexer": "ipython3",
   "version": "3.12.2"
  }
 },
 "nbformat": 4,
 "nbformat_minor": 5
}
