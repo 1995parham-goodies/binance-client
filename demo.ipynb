{
 "cells": [
  {
   "cell_type": "code",
   "execution_count": 1,
   "id": "ada0770d-5c53-4e21-a219-c34b172522e0",
   "metadata": {
    "editable": true,
    "slideshow": {
     "slide_type": ""
    },
    "tags": []
   },
   "outputs": [],
   "source": [
    "import pandas as pd"
   ]
  },
  {
   "cell_type": "code",
   "execution_count": 2,
   "id": "b66cb753-9361-4ed8-b301-0d1adf166378",
   "metadata": {},
   "outputs": [],
   "source": [
    "df = pd.read_csv('BTCUSDT-bookTicker-2024-02-06.csv')"
   ]
  },
  {
   "cell_type": "code",
   "execution_count": 3,
   "id": "0803f4da-033c-4ec8-8966-5af5845c60d3",
   "metadata": {},
   "outputs": [
    {
     "data": {
      "text/html": [
       "<div>\n",
       "<style scoped>\n",
       "    .dataframe tbody tr th:only-of-type {\n",
       "        vertical-align: middle;\n",
       "    }\n",
       "\n",
       "    .dataframe tbody tr th {\n",
       "        vertical-align: top;\n",
       "    }\n",
       "\n",
       "    .dataframe thead th {\n",
       "        text-align: right;\n",
       "    }\n",
       "</style>\n",
       "<table border=\"1\" class=\"dataframe\">\n",
       "  <thead>\n",
       "    <tr style=\"text-align: right;\">\n",
       "      <th></th>\n",
       "      <th>update_id</th>\n",
       "      <th>best_bid_price</th>\n",
       "      <th>best_bid_qty</th>\n",
       "      <th>best_ask_price</th>\n",
       "      <th>best_ask_qty</th>\n",
       "      <th>transaction_time</th>\n",
       "      <th>event_time</th>\n",
       "    </tr>\n",
       "  </thead>\n",
       "  <tbody>\n",
       "    <tr>\n",
       "      <th>0</th>\n",
       "      <td>3936653543857</td>\n",
       "      <td>42692.9</td>\n",
       "      <td>0.587</td>\n",
       "      <td>42693.0</td>\n",
       "      <td>5.645</td>\n",
       "      <td>1707177600000</td>\n",
       "      <td>1707177600004</td>\n",
       "    </tr>\n",
       "    <tr>\n",
       "      <th>1</th>\n",
       "      <td>3939719410110</td>\n",
       "      <td>43233.4</td>\n",
       "      <td>0.846</td>\n",
       "      <td>43233.6</td>\n",
       "      <td>10.399</td>\n",
       "      <td>1707235233178</td>\n",
       "      <td>1707235233182</td>\n",
       "    </tr>\n",
       "    <tr>\n",
       "      <th>2</th>\n",
       "      <td>3936653543872</td>\n",
       "      <td>42692.9</td>\n",
       "      <td>0.584</td>\n",
       "      <td>42693.0</td>\n",
       "      <td>5.645</td>\n",
       "      <td>1707177600000</td>\n",
       "      <td>1707177600004</td>\n",
       "    </tr>\n",
       "    <tr>\n",
       "      <th>3</th>\n",
       "      <td>3939719410130</td>\n",
       "      <td>43233.4</td>\n",
       "      <td>0.846</td>\n",
       "      <td>43233.6</td>\n",
       "      <td>10.636</td>\n",
       "      <td>1707235233178</td>\n",
       "      <td>1707235233182</td>\n",
       "    </tr>\n",
       "    <tr>\n",
       "      <th>4</th>\n",
       "      <td>3936653543878</td>\n",
       "      <td>42692.9</td>\n",
       "      <td>0.562</td>\n",
       "      <td>42693.0</td>\n",
       "      <td>5.645</td>\n",
       "      <td>1707177600000</td>\n",
       "      <td>1707177600004</td>\n",
       "    </tr>\n",
       "  </tbody>\n",
       "</table>\n",
       "</div>"
      ],
      "text/plain": [
       "       update_id  best_bid_price  best_bid_qty  best_ask_price  best_ask_qty  \\\n",
       "0  3936653543857         42692.9         0.587         42693.0         5.645   \n",
       "1  3939719410110         43233.4         0.846         43233.6        10.399   \n",
       "2  3936653543872         42692.9         0.584         42693.0         5.645   \n",
       "3  3939719410130         43233.4         0.846         43233.6        10.636   \n",
       "4  3936653543878         42692.9         0.562         42693.0         5.645   \n",
       "\n",
       "   transaction_time     event_time  \n",
       "0     1707177600000  1707177600004  \n",
       "1     1707235233178  1707235233182  \n",
       "2     1707177600000  1707177600004  \n",
       "3     1707235233178  1707235233182  \n",
       "4     1707177600000  1707177600004  "
      ]
     },
     "execution_count": 3,
     "metadata": {},
     "output_type": "execute_result"
    }
   ],
   "source": [
    "df.head()"
   ]
  },
  {
   "cell_type": "code",
   "execution_count": 4,
   "id": "3fcf72ce-c4ca-4deb-a5a6-4759da50c23b",
   "metadata": {},
   "outputs": [],
   "source": [
    "df['transaction_time'] = pd.to_datetime(df['transaction_time'], unit='ms')"
   ]
  },
  {
   "cell_type": "code",
   "execution_count": 5,
   "id": "e69764f6-87e9-4cae-8390-3916d3a14ee6",
   "metadata": {},
   "outputs": [
    {
     "data": {
      "text/html": [
       "<div>\n",
       "<style scoped>\n",
       "    .dataframe tbody tr th:only-of-type {\n",
       "        vertical-align: middle;\n",
       "    }\n",
       "\n",
       "    .dataframe tbody tr th {\n",
       "        vertical-align: top;\n",
       "    }\n",
       "\n",
       "    .dataframe thead th {\n",
       "        text-align: right;\n",
       "    }\n",
       "</style>\n",
       "<table border=\"1\" class=\"dataframe\">\n",
       "  <thead>\n",
       "    <tr style=\"text-align: right;\">\n",
       "      <th></th>\n",
       "      <th>update_id</th>\n",
       "      <th>best_bid_price</th>\n",
       "      <th>best_bid_qty</th>\n",
       "      <th>best_ask_price</th>\n",
       "      <th>best_ask_qty</th>\n",
       "      <th>transaction_time</th>\n",
       "      <th>event_time</th>\n",
       "    </tr>\n",
       "  </thead>\n",
       "  <tbody>\n",
       "    <tr>\n",
       "      <th>0</th>\n",
       "      <td>3936653543857</td>\n",
       "      <td>42692.9</td>\n",
       "      <td>0.587</td>\n",
       "      <td>42693.0</td>\n",
       "      <td>5.645</td>\n",
       "      <td>2024-02-06 00:00:00.000</td>\n",
       "      <td>1707177600004</td>\n",
       "    </tr>\n",
       "    <tr>\n",
       "      <th>1</th>\n",
       "      <td>3939719410110</td>\n",
       "      <td>43233.4</td>\n",
       "      <td>0.846</td>\n",
       "      <td>43233.6</td>\n",
       "      <td>10.399</td>\n",
       "      <td>2024-02-06 16:00:33.178</td>\n",
       "      <td>1707235233182</td>\n",
       "    </tr>\n",
       "    <tr>\n",
       "      <th>2</th>\n",
       "      <td>3936653543872</td>\n",
       "      <td>42692.9</td>\n",
       "      <td>0.584</td>\n",
       "      <td>42693.0</td>\n",
       "      <td>5.645</td>\n",
       "      <td>2024-02-06 00:00:00.000</td>\n",
       "      <td>1707177600004</td>\n",
       "    </tr>\n",
       "    <tr>\n",
       "      <th>3</th>\n",
       "      <td>3939719410130</td>\n",
       "      <td>43233.4</td>\n",
       "      <td>0.846</td>\n",
       "      <td>43233.6</td>\n",
       "      <td>10.636</td>\n",
       "      <td>2024-02-06 16:00:33.178</td>\n",
       "      <td>1707235233182</td>\n",
       "    </tr>\n",
       "    <tr>\n",
       "      <th>4</th>\n",
       "      <td>3936653543878</td>\n",
       "      <td>42692.9</td>\n",
       "      <td>0.562</td>\n",
       "      <td>42693.0</td>\n",
       "      <td>5.645</td>\n",
       "      <td>2024-02-06 00:00:00.000</td>\n",
       "      <td>1707177600004</td>\n",
       "    </tr>\n",
       "  </tbody>\n",
       "</table>\n",
       "</div>"
      ],
      "text/plain": [
       "       update_id  best_bid_price  best_bid_qty  best_ask_price  best_ask_qty  \\\n",
       "0  3936653543857         42692.9         0.587         42693.0         5.645   \n",
       "1  3939719410110         43233.4         0.846         43233.6        10.399   \n",
       "2  3936653543872         42692.9         0.584         42693.0         5.645   \n",
       "3  3939719410130         43233.4         0.846         43233.6        10.636   \n",
       "4  3936653543878         42692.9         0.562         42693.0         5.645   \n",
       "\n",
       "         transaction_time     event_time  \n",
       "0 2024-02-06 00:00:00.000  1707177600004  \n",
       "1 2024-02-06 16:00:33.178  1707235233182  \n",
       "2 2024-02-06 00:00:00.000  1707177600004  \n",
       "3 2024-02-06 16:00:33.178  1707235233182  \n",
       "4 2024-02-06 00:00:00.000  1707177600004  "
      ]
     },
     "execution_count": 5,
     "metadata": {},
     "output_type": "execute_result"
    }
   ],
   "source": [
    "df.head()"
   ]
  },
  {
   "cell_type": "code",
   "execution_count": 6,
   "id": "2baf20ab-5daa-4e18-a158-d58f224046d8",
   "metadata": {},
   "outputs": [],
   "source": [
    "df['event_time'] = pd.to_datetime(df['event_time'], unit='ms')"
   ]
  },
  {
   "cell_type": "code",
   "execution_count": 7,
   "id": "44ac5b81-68aa-4399-9f43-5c8da4c6fb6c",
   "metadata": {},
   "outputs": [
    {
     "data": {
      "text/html": [
       "<div>\n",
       "<style scoped>\n",
       "    .dataframe tbody tr th:only-of-type {\n",
       "        vertical-align: middle;\n",
       "    }\n",
       "\n",
       "    .dataframe tbody tr th {\n",
       "        vertical-align: top;\n",
       "    }\n",
       "\n",
       "    .dataframe thead th {\n",
       "        text-align: right;\n",
       "    }\n",
       "</style>\n",
       "<table border=\"1\" class=\"dataframe\">\n",
       "  <thead>\n",
       "    <tr style=\"text-align: right;\">\n",
       "      <th></th>\n",
       "      <th>update_id</th>\n",
       "      <th>best_bid_price</th>\n",
       "      <th>best_bid_qty</th>\n",
       "      <th>best_ask_price</th>\n",
       "      <th>best_ask_qty</th>\n",
       "      <th>transaction_time</th>\n",
       "      <th>event_time</th>\n",
       "    </tr>\n",
       "  </thead>\n",
       "  <tbody>\n",
       "    <tr>\n",
       "      <th>0</th>\n",
       "      <td>3936653543857</td>\n",
       "      <td>42692.9</td>\n",
       "      <td>0.587</td>\n",
       "      <td>42693.0</td>\n",
       "      <td>5.645</td>\n",
       "      <td>2024-02-06 00:00:00.000</td>\n",
       "      <td>2024-02-06 00:00:00.004</td>\n",
       "    </tr>\n",
       "    <tr>\n",
       "      <th>1</th>\n",
       "      <td>3939719410110</td>\n",
       "      <td>43233.4</td>\n",
       "      <td>0.846</td>\n",
       "      <td>43233.6</td>\n",
       "      <td>10.399</td>\n",
       "      <td>2024-02-06 16:00:33.178</td>\n",
       "      <td>2024-02-06 16:00:33.182</td>\n",
       "    </tr>\n",
       "    <tr>\n",
       "      <th>2</th>\n",
       "      <td>3936653543872</td>\n",
       "      <td>42692.9</td>\n",
       "      <td>0.584</td>\n",
       "      <td>42693.0</td>\n",
       "      <td>5.645</td>\n",
       "      <td>2024-02-06 00:00:00.000</td>\n",
       "      <td>2024-02-06 00:00:00.004</td>\n",
       "    </tr>\n",
       "    <tr>\n",
       "      <th>3</th>\n",
       "      <td>3939719410130</td>\n",
       "      <td>43233.4</td>\n",
       "      <td>0.846</td>\n",
       "      <td>43233.6</td>\n",
       "      <td>10.636</td>\n",
       "      <td>2024-02-06 16:00:33.178</td>\n",
       "      <td>2024-02-06 16:00:33.182</td>\n",
       "    </tr>\n",
       "    <tr>\n",
       "      <th>4</th>\n",
       "      <td>3936653543878</td>\n",
       "      <td>42692.9</td>\n",
       "      <td>0.562</td>\n",
       "      <td>42693.0</td>\n",
       "      <td>5.645</td>\n",
       "      <td>2024-02-06 00:00:00.000</td>\n",
       "      <td>2024-02-06 00:00:00.004</td>\n",
       "    </tr>\n",
       "  </tbody>\n",
       "</table>\n",
       "</div>"
      ],
      "text/plain": [
       "       update_id  best_bid_price  best_bid_qty  best_ask_price  best_ask_qty  \\\n",
       "0  3936653543857         42692.9         0.587         42693.0         5.645   \n",
       "1  3939719410110         43233.4         0.846         43233.6        10.399   \n",
       "2  3936653543872         42692.9         0.584         42693.0         5.645   \n",
       "3  3939719410130         43233.4         0.846         43233.6        10.636   \n",
       "4  3936653543878         42692.9         0.562         42693.0         5.645   \n",
       "\n",
       "         transaction_time              event_time  \n",
       "0 2024-02-06 00:00:00.000 2024-02-06 00:00:00.004  \n",
       "1 2024-02-06 16:00:33.178 2024-02-06 16:00:33.182  \n",
       "2 2024-02-06 00:00:00.000 2024-02-06 00:00:00.004  \n",
       "3 2024-02-06 16:00:33.178 2024-02-06 16:00:33.182  \n",
       "4 2024-02-06 00:00:00.000 2024-02-06 00:00:00.004  "
      ]
     },
     "execution_count": 7,
     "metadata": {},
     "output_type": "execute_result"
    }
   ],
   "source": [
    "df.head()"
   ]
  },
  {
   "cell_type": "code",
   "execution_count": 8,
   "id": "e7c041f8-3f8c-4c7b-ac15-368837827b54",
   "metadata": {},
   "outputs": [],
   "source": [
    "grouped = df.groupby([df['transaction_time'].dt.hour])"
   ]
  },
  {
   "cell_type": "code",
   "execution_count": 9,
   "id": "129cdf04-3c70-4a32-85d6-3e961d53fb18",
   "metadata": {},
   "outputs": [
    {
     "data": {
      "text/plain": [
       "transaction_time\n",
       "0      883747\n",
       "1      955074\n",
       "2     1165062\n",
       "3      867975\n",
       "4      849887\n",
       "5      814240\n",
       "6      829777\n",
       "7      809152\n",
       "8     1451969\n",
       "9     1123615\n",
       "10    1620430\n",
       "11    1307003\n",
       "12    1283219\n",
       "13    1412374\n",
       "14    1482887\n",
       "15    1855624\n",
       "16    1921017\n",
       "17    1283150\n",
       "18    1077940\n",
       "19    1015262\n",
       "20    1160909\n",
       "21     894236\n",
       "22     663772\n",
       "23     811752\n",
       "Name: update_id, dtype: int64"
      ]
     },
     "execution_count": 9,
     "metadata": {},
     "output_type": "execute_result"
    }
   ],
   "source": [
    "grouped['update_id'].count()"
   ]
  },
  {
   "cell_type": "code",
   "execution_count": 10,
   "id": "b38782f2-e7de-4493-9105-80c300e4a519",
   "metadata": {},
   "outputs": [],
   "source": [
    "from sklearn.cluster import KMeans\n",
    "from yellowbrick.cluster import KElbowVisualizer\n"
   ]
  },
  {
   "cell_type": "code",
   "execution_count": 11,
   "id": "670cd00c-cfea-4c1a-b073-8f567362b7bc",
   "metadata": {},
   "outputs": [
    {
     "name": "stderr",
     "output_type": "stream",
     "text": [
      "findfont: Generic family 'sans-serif' not found because none of the following families were found: Arial, Liberation Sans, Bitstream Vera Sans, sans-serif\n",
      "findfont: Generic family 'sans-serif' not found because none of the following families were found: Arial, Liberation Sans, Bitstream Vera Sans, sans-serif\n",
      "findfont: Generic family 'sans-serif' not found because none of the following families were found: Arial, Liberation Sans, Bitstream Vera Sans, sans-serif\n",
      "findfont: Generic family 'sans-serif' not found because none of the following families were found: Arial, Liberation Sans, Bitstream Vera Sans, sans-serif\n",
      "findfont: Generic family 'sans-serif' not found because none of the following families were found: Arial, Liberation Sans, Bitstream Vera Sans, sans-serif\n",
      "findfont: Generic family 'sans-serif' not found because none of the following families were found: Arial, Liberation Sans, Bitstream Vera Sans, sans-serif\n",
      "findfont: Generic family 'sans-serif' not found because none of the following families were found: Arial, Liberation Sans, Bitstream Vera Sans, sans-serif\n",
      "findfont: Generic family 'sans-serif' not found because none of the following families were found: Arial, Liberation Sans, Bitstream Vera Sans, sans-serif\n",
      "findfont: Generic family 'sans-serif' not found because none of the following families were found: Arial, Liberation Sans, Bitstream Vera Sans, sans-serif\n",
      "findfont: Generic family 'sans-serif' not found because none of the following families were found: Arial, Liberation Sans, Bitstream Vera Sans, sans-serif\n",
      "findfont: Generic family 'sans-serif' not found because none of the following families were found: Arial, Liberation Sans, Bitstream Vera Sans, sans-serif\n",
      "findfont: Generic family 'sans-serif' not found because none of the following families were found: Arial, Liberation Sans, Bitstream Vera Sans, sans-serif\n",
      "findfont: Generic family 'sans-serif' not found because none of the following families were found: Arial, Liberation Sans, Bitstream Vera Sans, sans-serif\n",
      "findfont: Generic family 'sans-serif' not found because none of the following families were found: Arial, Liberation Sans, Bitstream Vera Sans, sans-serif\n",
      "findfont: Generic family 'sans-serif' not found because none of the following families were found: Arial, Liberation Sans, Bitstream Vera Sans, sans-serif\n",
      "findfont: Generic family 'sans-serif' not found because none of the following families were found: Arial, Liberation Sans, Bitstream Vera Sans, sans-serif\n",
      "findfont: Generic family 'sans-serif' not found because none of the following families were found: Arial, Liberation Sans, Bitstream Vera Sans, sans-serif\n",
      "findfont: Generic family 'sans-serif' not found because none of the following families were found: Arial, Liberation Sans, Bitstream Vera Sans, sans-serif\n",
      "findfont: Generic family 'sans-serif' not found because none of the following families were found: Arial, Liberation Sans, Bitstream Vera Sans, sans-serif\n",
      "findfont: Generic family 'sans-serif' not found because none of the following families were found: Arial, Liberation Sans, Bitstream Vera Sans, sans-serif\n",
      "findfont: Generic family 'sans-serif' not found because none of the following families were found: Arial, Liberation Sans, Bitstream Vera Sans, sans-serif\n",
      "findfont: Generic family 'sans-serif' not found because none of the following families were found: Arial, Liberation Sans, Bitstream Vera Sans, sans-serif\n",
      "findfont: Generic family 'sans-serif' not found because none of the following families were found: Arial, Liberation Sans, Bitstream Vera Sans, sans-serif\n",
      "findfont: Generic family 'sans-serif' not found because none of the following families were found: Arial, Liberation Sans, Bitstream Vera Sans, sans-serif\n",
      "findfont: Generic family 'sans-serif' not found because none of the following families were found: Arial, Liberation Sans, Bitstream Vera Sans, sans-serif\n",
      "findfont: Font family ['sans-serif'] not found. Falling back to DejaVu Sans.\n",
      "findfont: Generic family 'sans-serif' not found because none of the following families were found: Arial, Liberation Sans, Bitstream Vera Sans, sans-serif\n",
      "findfont: Generic family 'sans-serif' not found because none of the following families were found: Arial, Liberation Sans, Bitstream Vera Sans, sans-serif\n",
      "findfont: Generic family 'sans-serif' not found because none of the following families were found: Arial, Liberation Sans, Bitstream Vera Sans, sans-serif\n",
      "findfont: Generic family 'sans-serif' not found because none of the following families were found: Arial, Liberation Sans, Bitstream Vera Sans, sans-serif\n",
      "findfont: Generic family 'sans-serif' not found because none of the following families were found: Arial, Liberation Sans, Bitstream Vera Sans, sans-serif\n",
      "findfont: Generic family 'sans-serif' not found because none of the following families were found: Arial, Liberation Sans, Bitstream Vera Sans, sans-serif\n",
      "findfont: Generic family 'sans-serif' not found because none of the following families were found: Arial, Liberation Sans, Bitstream Vera Sans, sans-serif\n",
      "findfont: Generic family 'sans-serif' not found because none of the following families were found: Arial, Liberation Sans, Bitstream Vera Sans, sans-serif\n",
      "findfont: Generic family 'sans-serif' not found because none of the following families were found: Arial, Liberation Sans, Bitstream Vera Sans, sans-serif\n",
      "findfont: Generic family 'sans-serif' not found because none of the following families were found: Arial, Liberation Sans, Bitstream Vera Sans, sans-serif\n",
      "findfont: Generic family 'sans-serif' not found because none of the following families were found: Arial, Liberation Sans, Bitstream Vera Sans, sans-serif\n",
      "findfont: Generic family 'sans-serif' not found because none of the following families were found: Arial, Liberation Sans, Bitstream Vera Sans, sans-serif\n",
      "findfont: Generic family 'sans-serif' not found because none of the following families were found: Arial, Liberation Sans, Bitstream Vera Sans, sans-serif\n",
      "findfont: Generic family 'sans-serif' not found because none of the following families were found: Arial, Liberation Sans, Bitstream Vera Sans, sans-serif\n",
      "findfont: Generic family 'sans-serif' not found because none of the following families were found: Arial, Liberation Sans, Bitstream Vera Sans, sans-serif\n",
      "findfont: Generic family 'sans-serif' not found because none of the following families were found: Arial, Liberation Sans, Bitstream Vera Sans, sans-serif\n",
      "findfont: Generic family 'sans-serif' not found because none of the following families were found: Arial, Liberation Sans, Bitstream Vera Sans, sans-serif\n",
      "findfont: Generic family 'sans-serif' not found because none of the following families were found: Arial, Liberation Sans, Bitstream Vera Sans, sans-serif\n",
      "findfont: Generic family 'sans-serif' not found because none of the following families were found: Arial, Liberation Sans, Bitstream Vera Sans, sans-serif\n",
      "findfont: Generic family 'sans-serif' not found because none of the following families were found: Arial, Liberation Sans, Bitstream Vera Sans, sans-serif\n",
      "findfont: Generic family 'sans-serif' not found because none of the following families were found: Arial, Liberation Sans, Bitstream Vera Sans, sans-serif\n",
      "findfont: Generic family 'sans-serif' not found because none of the following families were found: Arial, Liberation Sans, Bitstream Vera Sans, sans-serif\n",
      "findfont: Generic family 'sans-serif' not found because none of the following families were found: Arial, Liberation Sans, Bitstream Vera Sans, sans-serif\n",
      "findfont: Generic family 'sans-serif' not found because none of the following families were found: Arial, Liberation Sans, Bitstream Vera Sans, sans-serif\n",
      "findfont: Generic family 'sans-serif' not found because none of the following families were found: Arial, Liberation Sans, Bitstream Vera Sans, sans-serif\n",
      "findfont: Generic family 'sans-serif' not found because none of the following families were found: Arial, Liberation Sans, Bitstream Vera Sans, sans-serif\n",
      "findfont: Generic family 'sans-serif' not found because none of the following families were found: Arial, Liberation Sans, Bitstream Vera Sans, sans-serif\n",
      "findfont: Generic family 'sans-serif' not found because none of the following families were found: Arial, Liberation Sans, Bitstream Vera Sans, sans-serif\n",
      "findfont: Generic family 'sans-serif' not found because none of the following families were found: Arial, Liberation Sans, Bitstream Vera Sans, sans-serif\n",
      "findfont: Generic family 'sans-serif' not found because none of the following families were found: Arial, Liberation Sans, Bitstream Vera Sans, sans-serif\n",
      "findfont: Generic family 'sans-serif' not found because none of the following families were found: Arial, Liberation Sans, Bitstream Vera Sans, sans-serif\n",
      "findfont: Generic family 'sans-serif' not found because none of the following families were found: Arial, Liberation Sans, Bitstream Vera Sans, sans-serif\n",
      "findfont: Generic family 'sans-serif' not found because none of the following families were found: Arial, Liberation Sans, Bitstream Vera Sans, sans-serif\n",
      "findfont: Generic family 'sans-serif' not found because none of the following families were found: Arial, Liberation Sans, Bitstream Vera Sans, sans-serif\n",
      "findfont: Generic family 'sans-serif' not found because none of the following families were found: Arial, Liberation Sans, Bitstream Vera Sans, sans-serif\n",
      "findfont: Generic family 'sans-serif' not found because none of the following families were found: Arial, Liberation Sans, Bitstream Vera Sans, sans-serif\n",
      "findfont: Generic family 'sans-serif' not found because none of the following families were found: Arial, Liberation Sans, Bitstream Vera Sans, sans-serif\n",
      "findfont: Generic family 'sans-serif' not found because none of the following families were found: Arial, Liberation Sans, Bitstream Vera Sans, sans-serif\n",
      "findfont: Generic family 'sans-serif' not found because none of the following families were found: Arial, Liberation Sans, Bitstream Vera Sans, sans-serif\n",
      "findfont: Generic family 'sans-serif' not found because none of the following families were found: Arial, Liberation Sans, Bitstream Vera Sans, sans-serif\n",
      "findfont: Generic family 'sans-serif' not found because none of the following families were found: Arial, Liberation Sans, Bitstream Vera Sans, sans-serif\n",
      "findfont: Generic family 'sans-serif' not found because none of the following families were found: Arial, Liberation Sans, Bitstream Vera Sans, sans-serif\n",
      "findfont: Generic family 'sans-serif' not found because none of the following families were found: Arial, Liberation Sans, Bitstream Vera Sans, sans-serif\n",
      "findfont: Generic family 'sans-serif' not found because none of the following families were found: Arial, Liberation Sans, Bitstream Vera Sans, sans-serif\n",
      "findfont: Generic family 'sans-serif' not found because none of the following families were found: Arial, Liberation Sans, Bitstream Vera Sans, sans-serif\n",
      "findfont: Generic family 'sans-serif' not found because none of the following families were found: Arial, Liberation Sans, Bitstream Vera Sans, sans-serif\n",
      "findfont: Generic family 'sans-serif' not found because none of the following families were found: Arial, Liberation Sans, Bitstream Vera Sans, sans-serif\n",
      "findfont: Generic family 'sans-serif' not found because none of the following families were found: Arial, Liberation Sans, Bitstream Vera Sans, sans-serif\n",
      "findfont: Generic family 'sans-serif' not found because none of the following families were found: Arial, Liberation Sans, Bitstream Vera Sans, sans-serif\n",
      "findfont: Generic family 'sans-serif' not found because none of the following families were found: Arial, Liberation Sans, Bitstream Vera Sans, sans-serif\n",
      "findfont: Generic family 'sans-serif' not found because none of the following families were found: Arial, Liberation Sans, Bitstream Vera Sans, sans-serif\n",
      "findfont: Generic family 'sans-serif' not found because none of the following families were found: Arial, Liberation Sans, Bitstream Vera Sans, sans-serif\n",
      "findfont: Generic family 'sans-serif' not found because none of the following families were found: Arial, Liberation Sans, Bitstream Vera Sans, sans-serif\n",
      "findfont: Generic family 'sans-serif' not found because none of the following families were found: Arial, Liberation Sans, Bitstream Vera Sans, sans-serif\n",
      "findfont: Generic family 'sans-serif' not found because none of the following families were found: Arial, Liberation Sans, Bitstream Vera Sans, sans-serif\n",
      "findfont: Generic family 'sans-serif' not found because none of the following families were found: Arial, Liberation Sans, Bitstream Vera Sans, sans-serif\n",
      "findfont: Generic family 'sans-serif' not found because none of the following families were found: Arial, Liberation Sans, Bitstream Vera Sans, sans-serif\n",
      "findfont: Generic family 'sans-serif' not found because none of the following families were found: Arial, Liberation Sans, Bitstream Vera Sans, sans-serif\n"
     ]
    },
    {
     "data": {
      "image/png": "[encoded data removed]",
      "text/plain": [
       "<Figure size 800x550 with 2 Axes>"
      ]
     },
     "metadata": {},
     "output_type": "display_data"
    },
    {
     "data": {
      "text/plain": [
       "<Axes: title={'center': 'Distortion Score Elbow for KMeans Clustering'}, xlabel='k', ylabel='distortion score'>"
      ]
     },
     "execution_count": 11,
     "metadata": {},
     "output_type": "execute_result"
    }
   ],
   "source": [
    "kmeans = KMeans(random_state=42, n_init=\"auto\")\n",
    "visualizer = KElbowVisualizer(kmeans, k=(2, 20))\n",
    "visualizer.fit(df[['best_bid_price', 'best_bid_qty', 'best_ask_price', 'best_ask_qty']])\n",
    "visualizer.show()"
   ]
  },
  {
   "cell_type": "code",
   "execution_count": 17,
   "id": "4cce5f3e-0c77-44d4-9eb2-4ab9b418066b",
   "metadata": {},
   "outputs": [],
   "source": [
    "kmeans = KMeans(n_clusters=6).fit(df[['best_bid_price', 'best_bid_qty', 'best_ask_price', 'best_ask_qty']])"
   ]
  },
  {
   "cell_type": "code",
   "execution_count": 18,
   "id": "3253dcb0-938f-4318-9c0b-ea3946a4b478",
   "metadata": {},
   "outputs": [
    {
     "data": {
      "text/plain": [
       "array([[4.26558599e+04, 6.12448642e+00, 4.26559655e+04, 6.23542501e+00],\n",
       "       [4.31630276e+04, 6.07064507e+00, 4.31631316e+04, 6.33479628e+00],\n",
       "       [4.28963980e+04, 6.21898102e+00, 4.28965027e+04, 6.60542043e+00],\n",
       "       [4.32771920e+04, 5.39529557e+00, 4.32773007e+04, 5.64757585e+00],\n",
       "       [4.27773522e+04, 6.55372872e+00, 4.27774573e+04, 6.83020524e+00],\n",
       "       [4.30352899e+04, 5.96851490e+00, 4.30353966e+04, 6.28720846e+00]])"
      ]
     },
     "execution_count": 18,
     "metadata": {},
     "output_type": "execute_result"
    }
   ],
   "source": [
    "kmeans.cluster_centers_"
   ]
  },
  {
   "cell_type": "code",
   "execution_count": null,
   "id": "0093c9bd-019b-4497-9f8b-fd717726dfbf",
   "metadata": {},
   "outputs": [],
   "source": [
    "df['best_bid_total'] = df['best_bid_price'] * df['best_bid_qty']\n",
    "\n",
    "df_group_by_timestamp = df.groupby('transaction_time').mean().reset_index()\n",
    "plt.plot(df_group_by_timestamp['transaction_time'], df_group_by_timestamp['best_bid_total'])"
   ]
  }
 ],
 "metadata": {
  "kernelspec": {
   "display_name": "Python 3 (ipykernel)",
   "language": "python",
   "name": "python3"
  },
  "language_info": {
   "codemirror_mode": {
    "name": "ipython",
    "version": 3
   },
   "file_extension": ".py",
   "mimetype": "text/x-python",
   "name": "python",
   "nbconvert_exporter": "python",
   "pygments_lexer": "ipython3",
   "version": "3.12.2"
  }
 },
 "nbformat": 4,
 "nbformat_minor": 5
}
