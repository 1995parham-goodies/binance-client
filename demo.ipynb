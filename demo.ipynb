{
 "cells": [
  {
   "cell_type": "code",
   "execution_count": 1,
   "id": "ada0770d-5c53-4e21-a219-c34b172522e0",
   "metadata": {
    "editable": true,
    "slideshow": {
     "slide_type": ""
    },
    "tags": []
   },
   "outputs": [],
   "source": [
    "import pandas as pd"
   ]
  },
  {
   "cell_type": "code",
   "execution_count": 2,
   "id": "b66cb753-9361-4ed8-b301-0d1adf166378",
   "metadata": {},
   "outputs": [],
   "source": [
    "df = pd.read_csv('BTCUSDT-bookTicker-2024-02-06.csv')"
   ]
  },
  {
   "cell_type": "code",
   "execution_count": 3,
   "id": "0803f4da-033c-4ec8-8966-5af5845c60d3",
   "metadata": {},
   "outputs": [
    {
     "data": {
      "text/html": [
       "<div>\n",
       "<style scoped>\n",
       "    .dataframe tbody tr th:only-of-type {\n",
       "        vertical-align: middle;\n",
       "    }\n",
       "\n",
       "    .dataframe tbody tr th {\n",
       "        vertical-align: top;\n",
       "    }\n",
       "\n",
       "    .dataframe thead th {\n",
       "        text-align: right;\n",
       "    }\n",
       "</style>\n",
       "<table border=\"1\" class=\"dataframe\">\n",
       "  <thead>\n",
       "    <tr style=\"text-align: right;\">\n",
       "      <th></th>\n",
       "      <th>update_id</th>\n",
       "      <th>best_bid_price</th>\n",
       "      <th>best_bid_qty</th>\n",
       "      <th>best_ask_price</th>\n",
       "      <th>best_ask_qty</th>\n",
       "      <th>transaction_time</th>\n",
       "      <th>event_time</th>\n",
       "    </tr>\n",
       "  </thead>\n",
       "  <tbody>\n",
       "    <tr>\n",
       "      <th>0</th>\n",
       "      <td>3936653543857</td>\n",
       "      <td>42692.9</td>\n",
       "      <td>0.587</td>\n",
       "      <td>42693.0</td>\n",
       "      <td>5.645</td>\n",
       "      <td>1707177600000</td>\n",
       "      <td>1707177600004</td>\n",
       "    </tr>\n",
       "    <tr>\n",
       "      <th>1</th>\n",
       "      <td>3939719410110</td>\n",
       "      <td>43233.4</td>\n",
       "      <td>0.846</td>\n",
       "      <td>43233.6</td>\n",
       "      <td>10.399</td>\n",
       "      <td>1707235233178</td>\n",
       "      <td>1707235233182</td>\n",
       "    </tr>\n",
       "    <tr>\n",
       "      <th>2</th>\n",
       "      <td>3936653543872</td>\n",
       "      <td>42692.9</td>\n",
       "      <td>0.584</td>\n",
       "      <td>42693.0</td>\n",
       "      <td>5.645</td>\n",
       "      <td>1707177600000</td>\n",
       "      <td>1707177600004</td>\n",
       "    </tr>\n",
       "    <tr>\n",
       "      <th>3</th>\n",
       "      <td>3939719410130</td>\n",
       "      <td>43233.4</td>\n",
       "      <td>0.846</td>\n",
       "      <td>43233.6</td>\n",
       "      <td>10.636</td>\n",
       "      <td>1707235233178</td>\n",
       "      <td>1707235233182</td>\n",
       "    </tr>\n",
       "    <tr>\n",
       "      <th>4</th>\n",
       "      <td>3936653543878</td>\n",
       "      <td>42692.9</td>\n",
       "      <td>0.562</td>\n",
       "      <td>42693.0</td>\n",
       "      <td>5.645</td>\n",
       "      <td>1707177600000</td>\n",
       "      <td>1707177600004</td>\n",
       "    </tr>\n",
       "  </tbody>\n",
       "</table>\n",
       "</div>"
      ],
      "text/plain": [
       "       update_id  best_bid_price  best_bid_qty  best_ask_price  best_ask_qty  \\\n",
       "0  3936653543857         42692.9         0.587         42693.0         5.645   \n",
       "1  3939719410110         43233.4         0.846         43233.6        10.399   \n",
       "2  3936653543872         42692.9         0.584         42693.0         5.645   \n",
       "3  3939719410130         43233.4         0.846         43233.6        10.636   \n",
       "4  3936653543878         42692.9         0.562         42693.0         5.645   \n",
       "\n",
       "   transaction_time     event_time  \n",
       "0     1707177600000  1707177600004  \n",
       "1     1707235233178  1707235233182  \n",
       "2     1707177600000  1707177600004  \n",
       "3     1707235233178  1707235233182  \n",
       "4     1707177600000  1707177600004  "
      ]
     },
     "execution_count": 3,
     "metadata": {},
     "output_type": "execute_result"
    }
   ],
   "source": [
    "df.head()"
   ]
  },
  {
   "cell_type": "code",
   "execution_count": 4,
   "id": "3fcf72ce-c4ca-4deb-a5a6-4759da50c23b",
   "metadata": {},
   "outputs": [],
   "source": [
    "df['transaction_time'] = pd.to_datetime(df['transaction_time'], unit='ms')"
   ]
  },
  {
   "cell_type": "code",
   "execution_count": 5,
   "id": "e69764f6-87e9-4cae-8390-3916d3a14ee6",
   "metadata": {},
   "outputs": [
    {
     "data": {
      "text/html": [
       "<div>\n",
       "<style scoped>\n",
       "    .dataframe tbody tr th:only-of-type {\n",
       "        vertical-align: middle;\n",
       "    }\n",
       "\n",
       "    .dataframe tbody tr th {\n",
       "        vertical-align: top;\n",
       "    }\n",
       "\n",
       "    .dataframe thead th {\n",
       "        text-align: right;\n",
       "    }\n",
       "</style>\n",
       "<table border=\"1\" class=\"dataframe\">\n",
       "  <thead>\n",
       "    <tr style=\"text-align: right;\">\n",
       "      <th></th>\n",
       "      <th>update_id</th>\n",
       "      <th>best_bid_price</th>\n",
       "      <th>best_bid_qty</th>\n",
       "      <th>best_ask_price</th>\n",
       "      <th>best_ask_qty</th>\n",
       "      <th>transaction_time</th>\n",
       "      <th>event_time</th>\n",
       "    </tr>\n",
       "  </thead>\n",
       "  <tbody>\n",
       "    <tr>\n",
       "      <th>0</th>\n",
       "      <td>3936653543857</td>\n",
       "      <td>42692.9</td>\n",
       "      <td>0.587</td>\n",
       "      <td>42693.0</td>\n",
       "      <td>5.645</td>\n",
       "      <td>2024-02-06 00:00:00.000</td>\n",
       "      <td>1707177600004</td>\n",
       "    </tr>\n",
       "    <tr>\n",
       "      <th>1</th>\n",
       "      <td>3939719410110</td>\n",
       "      <td>43233.4</td>\n",
       "      <td>0.846</td>\n",
       "      <td>43233.6</td>\n",
       "      <td>10.399</td>\n",
       "      <td>2024-02-06 16:00:33.178</td>\n",
       "      <td>1707235233182</td>\n",
       "    </tr>\n",
       "    <tr>\n",
       "      <th>2</th>\n",
       "      <td>3936653543872</td>\n",
       "      <td>42692.9</td>\n",
       "      <td>0.584</td>\n",
       "      <td>42693.0</td>\n",
       "      <td>5.645</td>\n",
       "      <td>2024-02-06 00:00:00.000</td>\n",
       "      <td>1707177600004</td>\n",
       "    </tr>\n",
       "    <tr>\n",
       "      <th>3</th>\n",
       "      <td>3939719410130</td>\n",
       "      <td>43233.4</td>\n",
       "      <td>0.846</td>\n",
       "      <td>43233.6</td>\n",
       "      <td>10.636</td>\n",
       "      <td>2024-02-06 16:00:33.178</td>\n",
       "      <td>1707235233182</td>\n",
       "    </tr>\n",
       "    <tr>\n",
       "      <th>4</th>\n",
       "      <td>3936653543878</td>\n",
       "      <td>42692.9</td>\n",
       "      <td>0.562</td>\n",
       "      <td>42693.0</td>\n",
       "      <td>5.645</td>\n",
       "      <td>2024-02-06 00:00:00.000</td>\n",
       "      <td>1707177600004</td>\n",
       "    </tr>\n",
       "  </tbody>\n",
       "</table>\n",
       "</div>"
      ],
      "text/plain": [
       "       update_id  best_bid_price  best_bid_qty  best_ask_price  best_ask_qty  \\\n",
       "0  3936653543857         42692.9         0.587         42693.0         5.645   \n",
       "1  3939719410110         43233.4         0.846         43233.6        10.399   \n",
       "2  3936653543872         42692.9         0.584         42693.0         5.645   \n",
       "3  3939719410130         43233.4         0.846         43233.6        10.636   \n",
       "4  3936653543878         42692.9         0.562         42693.0         5.645   \n",
       "\n",
       "         transaction_time     event_time  \n",
       "0 2024-02-06 00:00:00.000  1707177600004  \n",
       "1 2024-02-06 16:00:33.178  1707235233182  \n",
       "2 2024-02-06 00:00:00.000  1707177600004  \n",
       "3 2024-02-06 16:00:33.178  1707235233182  \n",
       "4 2024-02-06 00:00:00.000  1707177600004  "
      ]
     },
     "execution_count": 5,
     "metadata": {},
     "output_type": "execute_result"
    }
   ],
   "source": [
    "df.head()"
   ]
  },
  {
   "cell_type": "code",
   "execution_count": 6,
   "id": "2baf20ab-5daa-4e18-a158-d58f224046d8",
   "metadata": {},
   "outputs": [],
   "source": [
    "df['event_time'] = pd.to_datetime(df['event_time'], unit='ms')"
   ]
  },
  {
   "cell_type": "code",
   "execution_count": 7,
   "id": "44ac5b81-68aa-4399-9f43-5c8da4c6fb6c",
   "metadata": {},
   "outputs": [
    {
     "data": {
      "text/html": [
       "<div>\n",
       "<style scoped>\n",
       "    .dataframe tbody tr th:only-of-type {\n",
       "        vertical-align: middle;\n",
       "    }\n",
       "\n",
       "    .dataframe tbody tr th {\n",
       "        vertical-align: top;\n",
       "    }\n",
       "\n",
       "    .dataframe thead th {\n",
       "        text-align: right;\n",
       "    }\n",
       "</style>\n",
       "<table border=\"1\" class=\"dataframe\">\n",
       "  <thead>\n",
       "    <tr style=\"text-align: right;\">\n",
       "      <th></th>\n",
       "      <th>update_id</th>\n",
       "      <th>best_bid_price</th>\n",
       "      <th>best_bid_qty</th>\n",
       "      <th>best_ask_price</th>\n",
       "      <th>best_ask_qty</th>\n",
       "      <th>transaction_time</th>\n",
       "      <th>event_time</th>\n",
       "    </tr>\n",
       "  </thead>\n",
       "  <tbody>\n",
       "    <tr>\n",
       "      <th>0</th>\n",
       "      <td>3936653543857</td>\n",
       "      <td>42692.9</td>\n",
       "      <td>0.587</td>\n",
       "      <td>42693.0</td>\n",
       "      <td>5.645</td>\n",
       "      <td>2024-02-06 00:00:00.000</td>\n",
       "      <td>2024-02-06 00:00:00.004</td>\n",
       "    </tr>\n",
       "    <tr>\n",
       "      <th>1</th>\n",
       "      <td>3939719410110</td>\n",
       "      <td>43233.4</td>\n",
       "      <td>0.846</td>\n",
       "      <td>43233.6</td>\n",
       "      <td>10.399</td>\n",
       "      <td>2024-02-06 16:00:33.178</td>\n",
       "      <td>2024-02-06 16:00:33.182</td>\n",
       "    </tr>\n",
       "    <tr>\n",
       "      <th>2</th>\n",
       "      <td>3936653543872</td>\n",
       "      <td>42692.9</td>\n",
       "      <td>0.584</td>\n",
       "      <td>42693.0</td>\n",
       "      <td>5.645</td>\n",
       "      <td>2024-02-06 00:00:00.000</td>\n",
       "      <td>2024-02-06 00:00:00.004</td>\n",
       "    </tr>\n",
       "    <tr>\n",
       "      <th>3</th>\n",
       "      <td>3939719410130</td>\n",
       "      <td>43233.4</td>\n",
       "      <td>0.846</td>\n",
       "      <td>43233.6</td>\n",
       "      <td>10.636</td>\n",
       "      <td>2024-02-06 16:00:33.178</td>\n",
       "      <td>2024-02-06 16:00:33.182</td>\n",
       "    </tr>\n",
       "    <tr>\n",
       "      <th>4</th>\n",
       "      <td>3936653543878</td>\n",
       "      <td>42692.9</td>\n",
       "      <td>0.562</td>\n",
       "      <td>42693.0</td>\n",
       "      <td>5.645</td>\n",
       "      <td>2024-02-06 00:00:00.000</td>\n",
       "      <td>2024-02-06 00:00:00.004</td>\n",
       "    </tr>\n",
       "  </tbody>\n",
       "</table>\n",
       "</div>"
      ],
      "text/plain": [
       "       update_id  best_bid_price  best_bid_qty  best_ask_price  best_ask_qty  \\\n",
       "0  3936653543857         42692.9         0.587         42693.0         5.645   \n",
       "1  3939719410110         43233.4         0.846         43233.6        10.399   \n",
       "2  3936653543872         42692.9         0.584         42693.0         5.645   \n",
       "3  3939719410130         43233.4         0.846         43233.6        10.636   \n",
       "4  3936653543878         42692.9         0.562         42693.0         5.645   \n",
       "\n",
       "         transaction_time              event_time  \n",
       "0 2024-02-06 00:00:00.000 2024-02-06 00:00:00.004  \n",
       "1 2024-02-06 16:00:33.178 2024-02-06 16:00:33.182  \n",
       "2 2024-02-06 00:00:00.000 2024-02-06 00:00:00.004  \n",
       "3 2024-02-06 16:00:33.178 2024-02-06 16:00:33.182  \n",
       "4 2024-02-06 00:00:00.000 2024-02-06 00:00:00.004  "
      ]
     },
     "execution_count": 7,
     "metadata": {},
     "output_type": "execute_result"
    }
   ],
   "source": [
    "df.head()"
   ]
  },
  {
   "cell_type": "code",
   "execution_count": 8,
   "id": "e7c041f8-3f8c-4c7b-ac15-368837827b54",
   "metadata": {},
   "outputs": [],
   "source": [
    "grouped = df.groupby([df['transaction_time'].dt.hour])"
   ]
  },
  {
   "cell_type": "code",
   "execution_count": 9,
   "id": "129cdf04-3c70-4a32-85d6-3e961d53fb18",
   "metadata": {},
   "outputs": [
    {
     "data": {
      "text/plain": [
       "transaction_time\n",
       "0      883747\n",
       "1      955074\n",
       "2     1165062\n",
       "3      867975\n",
       "4      849887\n",
       "5      814240\n",
       "6      829777\n",
       "7      809152\n",
       "8     1451969\n",
       "9     1123615\n",
       "10    1620430\n",
       "11    1307003\n",
       "12    1283219\n",
       "13    1412374\n",
       "14    1482887\n",
       "15    1855624\n",
       "16    1921017\n",
       "17    1283150\n",
       "18    1077940\n",
       "19    1015262\n",
       "20    1160909\n",
       "21     894236\n",
       "22     663772\n",
       "23     811752\n",
       "Name: update_id, dtype: int64"
      ]
     },
     "execution_count": 9,
     "metadata": {},
     "output_type": "execute_result"
    }
   ],
   "source": [
    "grouped['update_id'].count()"
   ]
  },
  {
   "cell_type": "code",
   "execution_count": 10,
   "id": "b38782f2-e7de-4493-9105-80c300e4a519",
   "metadata": {},
   "outputs": [],
   "source": [
    "from sklearn.cluster import KMeans\n",
    "from yellowbrick.cluster import KElbowVisualizer\n"
   ]
  },
  {
   "cell_type": "code",
   "execution_count": 11,
   "id": "670cd00c-cfea-4c1a-b073-8f567362b7bc",
   "metadata": {},
   "outputs": [
    {
     "name": "stderr",
     "output_type": "stream",
     "text": [
      "findfont: Generic family 'sans-serif' not found because none of the following families were found: Arial, Liberation Sans, Bitstream Vera Sans, sans-serif\n",
      "findfont: Generic family 'sans-serif' not found because none of the following families were found: Arial, Liberation Sans, Bitstream Vera Sans, sans-serif\n",
      "findfont: Generic family 'sans-serif' not found because none of the following families were found: Arial, Liberation Sans, Bitstream Vera Sans, sans-serif\n",
      "findfont: Generic family 'sans-serif' not found because none of the following families were found: Arial, Liberation Sans, Bitstream Vera Sans, sans-serif\n",
      "findfont: Generic family 'sans-serif' not found because none of the following families were found: Arial, Liberation Sans, Bitstream Vera Sans, sans-serif\n",
      "findfont: Generic family 'sans-serif' not found because none of the following families were found: Arial, Liberation Sans, Bitstream Vera Sans, sans-serif\n",
      "findfont: Generic family 'sans-serif' not found because none of the following families were found: Arial, Liberation Sans, Bitstream Vera Sans, sans-serif\n",
      "findfont: Generic family 'sans-serif' not found because none of the following families were found: Arial, Liberation Sans, Bitstream Vera Sans, sans-serif\n",
      "findfont: Generic family 'sans-serif' not found because none of the following families were found: Arial, Liberation Sans, Bitstream Vera Sans, sans-serif\n",
      "findfont: Generic family 'sans-serif' not found because none of the following families were found: Arial, Liberation Sans, Bitstream Vera Sans, sans-serif\n",
      "findfont: Generic family 'sans-serif' not found because none of the following families were found: Arial, Liberation Sans, Bitstream Vera Sans, sans-serif\n",
      "findfont: Generic family 'sans-serif' not found because none of the following families were found: Arial, Liberation Sans, Bitstream Vera Sans, sans-serif\n",
      "findfont: Generic family 'sans-serif' not found because none of the following families were found: Arial, Liberation Sans, Bitstream Vera Sans, sans-serif\n",
      "findfont: Generic family 'sans-serif' not found because none of the following families were found: Arial, Liberation Sans, Bitstream Vera Sans, sans-serif\n",
      "findfont: Generic family 'sans-serif' not found because none of the following families were found: Arial, Liberation Sans, Bitstream Vera Sans, sans-serif\n",
      "findfont: Generic family 'sans-serif' not found because none of the following families were found: Arial, Liberation Sans, Bitstream Vera Sans, sans-serif\n",
      "findfont: Generic family 'sans-serif' not found because none of the following families were found: Arial, Liberation Sans, Bitstream Vera Sans, sans-serif\n",
      "findfont: Generic family 'sans-serif' not found because none of the following families were found: Arial, Liberation Sans, Bitstream Vera Sans, sans-serif\n",
      "findfont: Generic family 'sans-serif' not found because none of the following families were found: Arial, Liberation Sans, Bitstream Vera Sans, sans-serif\n",
      "findfont: Generic family 'sans-serif' not found because none of the following families were found: Arial, Liberation Sans, Bitstream Vera Sans, sans-serif\n",
      "findfont: Generic family 'sans-serif' not found because none of the following families were found: Arial, Liberation Sans, Bitstream Vera Sans, sans-serif\n",
      "findfont: Generic family 'sans-serif' not found because none of the following families were found: Arial, Liberation Sans, Bitstream Vera Sans, sans-serif\n",
      "findfont: Generic family 'sans-serif' not found because none of the following families were found: Arial, Liberation Sans, Bitstream Vera Sans, sans-serif\n",
      "findfont: Generic family 'sans-serif' not found because none of the following families were found: Arial, Liberation Sans, Bitstream Vera Sans, sans-serif\n",
      "findfont: Generic family 'sans-serif' not found because none of the following families were found: Arial, Liberation Sans, Bitstream Vera Sans, sans-serif\n",
      "findfont: Font family ['sans-serif'] not found. Falling back to DejaVu Sans.\n",
      "findfont: Generic family 'sans-serif' not found because none of the following families were found: Arial, Liberation Sans, Bitstream Vera Sans, sans-serif\n",
      "findfont: Generic family 'sans-serif' not found because none of the following families were found: Arial, Liberation Sans, Bitstream Vera Sans, sans-serif\n",
      "findfont: Generic family 'sans-serif' not found because none of the following families were found: Arial, Liberation Sans, Bitstream Vera Sans, sans-serif\n",
      "findfont: Generic family 'sans-serif' not found because none of the following families were found: Arial, Liberation Sans, Bitstream Vera Sans, sans-serif\n",
      "findfont: Generic family 'sans-serif' not found because none of the following families were found: Arial, Liberation Sans, Bitstream Vera Sans, sans-serif\n",
      "findfont: Generic family 'sans-serif' not found because none of the following families were found: Arial, Liberation Sans, Bitstream Vera Sans, sans-serif\n",
      "findfont: Generic family 'sans-serif' not found because none of the following families were found: Arial, Liberation Sans, Bitstream Vera Sans, sans-serif\n",
      "findfont: Generic family 'sans-serif' not found because none of the following families were found: Arial, Liberation Sans, Bitstream Vera Sans, sans-serif\n",
      "findfont: Generic family 'sans-serif' not found because none of the following families were found: Arial, Liberation Sans, Bitstream Vera Sans, sans-serif\n",
      "findfont: Generic family 'sans-serif' not found because none of the following families were found: Arial, Liberation Sans, Bitstream Vera Sans, sans-serif\n",
      "findfont: Generic family 'sans-serif' not found because none of the following families were found: Arial, Liberation Sans, Bitstream Vera Sans, sans-serif\n",
      "findfont: Generic family 'sans-serif' not found because none of the following families were found: Arial, Liberation Sans, Bitstream Vera Sans, sans-serif\n",
      "findfont: Generic family 'sans-serif' not found because none of the following families were found: Arial, Liberation Sans, Bitstream Vera Sans, sans-serif\n",
      "findfont: Generic family 'sans-serif' not found because none of the following families were found: Arial, Liberation Sans, Bitstream Vera Sans, sans-serif\n",
      "findfont: Generic family 'sans-serif' not found because none of the following families were found: Arial, Liberation Sans, Bitstream Vera Sans, sans-serif\n",
      "findfont: Generic family 'sans-serif' not found because none of the following families were found: Arial, Liberation Sans, Bitstream Vera Sans, sans-serif\n",
      "findfont: Generic family 'sans-serif' not found because none of the following families were found: Arial, Liberation Sans, Bitstream Vera Sans, sans-serif\n",
      "findfont: Generic family 'sans-serif' not found because none of the following families were found: Arial, Liberation Sans, Bitstream Vera Sans, sans-serif\n",
      "findfont: Generic family 'sans-serif' not found because none of the following families were found: Arial, Liberation Sans, Bitstream Vera Sans, sans-serif\n",
      "findfont: Generic family 'sans-serif' not found because none of the following families were found: Arial, Liberation Sans, Bitstream Vera Sans, sans-serif\n",
      "findfont: Generic family 'sans-serif' not found because none of the following families were found: Arial, Liberation Sans, Bitstream Vera Sans, sans-serif\n",
      "findfont: Generic family 'sans-serif' not found because none of the following families were found: Arial, Liberation Sans, Bitstream Vera Sans, sans-serif\n",
      "findfont: Generic family 'sans-serif' not found because none of the following families were found: Arial, Liberation Sans, Bitstream Vera Sans, sans-serif\n",
      "findfont: Generic family 'sans-serif' not found because none of the following families were found: Arial, Liberation Sans, Bitstream Vera Sans, sans-serif\n",
      "findfont: Generic family 'sans-serif' not found because none of the following families were found: Arial, Liberation Sans, Bitstream Vera Sans, sans-serif\n",
      "findfont: Generic family 'sans-serif' not found because none of the following families were found: Arial, Liberation Sans, Bitstream Vera Sans, sans-serif\n",
      "findfont: Generic family 'sans-serif' not found because none of the following families were found: Arial, Liberation Sans, Bitstream Vera Sans, sans-serif\n",
      "findfont: Generic family 'sans-serif' not found because none of the following families were found: Arial, Liberation Sans, Bitstream Vera Sans, sans-serif\n",
      "findfont: Generic family 'sans-serif' not found because none of the following families were found: Arial, Liberation Sans, Bitstream Vera Sans, sans-serif\n",
      "findfont: Generic family 'sans-serif' not found because none of the following families were found: Arial, Liberation Sans, Bitstream Vera Sans, sans-serif\n",
      "findfont: Generic family 'sans-serif' not found because none of the following families were found: Arial, Liberation Sans, Bitstream Vera Sans, sans-serif\n",
      "findfont: Generic family 'sans-serif' not found because none of the following families were found: Arial, Liberation Sans, Bitstream Vera Sans, sans-serif\n",
      "findfont: Generic family 'sans-serif' not found because none of the following families were found: Arial, Liberation Sans, Bitstream Vera Sans, sans-serif\n",
      "findfont: Generic family 'sans-serif' not found because none of the following families were found: Arial, Liberation Sans, Bitstream Vera Sans, sans-serif\n",
      "findfont: Generic family 'sans-serif' not found because none of the following families were found: Arial, Liberation Sans, Bitstream Vera Sans, sans-serif\n",
      "findfont: Generic family 'sans-serif' not found because none of the following families were found: Arial, Liberation Sans, Bitstream Vera Sans, sans-serif\n",
      "findfont: Generic family 'sans-serif' not found because none of the following families were found: Arial, Liberation Sans, Bitstream Vera Sans, sans-serif\n",
      "findfont: Generic family 'sans-serif' not found because none of the following families were found: Arial, Liberation Sans, Bitstream Vera Sans, sans-serif\n",
      "findfont: Generic family 'sans-serif' not found because none of the following families were found: Arial, Liberation Sans, Bitstream Vera Sans, sans-serif\n",
      "findfont: Generic family 'sans-serif' not found because none of the following families were found: Arial, Liberation Sans, Bitstream Vera Sans, sans-serif\n",
      "findfont: Generic family 'sans-serif' not found because none of the following families were found: Arial, Liberation Sans, Bitstream Vera Sans, sans-serif\n",
      "findfont: Generic family 'sans-serif' not found because none of the following families were found: Arial, Liberation Sans, Bitstream Vera Sans, sans-serif\n",
      "findfont: Generic family 'sans-serif' not found because none of the following families were found: Arial, Liberation Sans, Bitstream Vera Sans, sans-serif\n",
      "findfont: Generic family 'sans-serif' not found because none of the following families were found: Arial, Liberation Sans, Bitstream Vera Sans, sans-serif\n",
      "findfont: Generic family 'sans-serif' not found because none of the following families were found: Arial, Liberation Sans, Bitstream Vera Sans, sans-serif\n",
      "findfont: Generic family 'sans-serif' not found because none of the following families were found: Arial, Liberation Sans, Bitstream Vera Sans, sans-serif\n",
      "findfont: Generic family 'sans-serif' not found because none of the following families were found: Arial, Liberation Sans, Bitstream Vera Sans, sans-serif\n",
      "findfont: Generic family 'sans-serif' not found because none of the following families were found: Arial, Liberation Sans, Bitstream Vera Sans, sans-serif\n",
      "findfont: Generic family 'sans-serif' not found because none of the following families were found: Arial, Liberation Sans, Bitstream Vera Sans, sans-serif\n",
      "findfont: Generic family 'sans-serif' not found because none of the following families were found: Arial, Liberation Sans, Bitstream Vera Sans, sans-serif\n",
      "findfont: Generic family 'sans-serif' not found because none of the following families were found: Arial, Liberation Sans, Bitstream Vera Sans, sans-serif\n",
      "findfont: Generic family 'sans-serif' not found because none of the following families were found: Arial, Liberation Sans, Bitstream Vera Sans, sans-serif\n",
      "findfont: Generic family 'sans-serif' not found because none of the following families were found: Arial, Liberation Sans, Bitstream Vera Sans, sans-serif\n",
      "findfont: Generic family 'sans-serif' not found because none of the following families were found: Arial, Liberation Sans, Bitstream Vera Sans, sans-serif\n",
      "findfont: Generic family 'sans-serif' not found because none of the following families were found: Arial, Liberation Sans, Bitstream Vera Sans, sans-serif\n",
      "findfont: Generic family 'sans-serif' not found because none of the following families were found: Arial, Liberation Sans, Bitstream Vera Sans, sans-serif\n",
      "findfont: Generic family 'sans-serif' not found because none of the following families were found: Arial, Liberation Sans, Bitstream Vera Sans, sans-serif\n",
      "findfont: Generic family 'sans-serif' not found because none of the following families were found: Arial, Liberation Sans, Bitstream Vera Sans, sans-serif\n",
      "findfont: Generic family 'sans-serif' not found because none of the following families were found: Arial, Liberation Sans, Bitstream Vera Sans, sans-serif\n",
      "findfont: Generic family 'sans-serif' not found because none of the following families were found: Arial, Liberation Sans, Bitstream Vera Sans, sans-serif\n",
      "findfont: Generic family 'sans-serif' not found because none of the following families were found: Arial, Liberation Sans, Bitstream Vera Sans, sans-serif\n",
      "findfont: Generic family 'sans-serif' not found because none of the following families were found: Arial, Liberation Sans, Bitstream Vera Sans, sans-serif\n",
      "findfont: Generic family 'sans-serif' not found because none of the following families were found: Arial, Liberation Sans, Bitstream Vera Sans, sans-serif\n"
     ]
    },
    {
     "data": {
      "image/png": "[encoded data removed]",
      "text/plain": [
       "<Figure size 800x550 with 2 Axes>"
      ]
     },
     "metadata": {},
     "output_type": "display_data"
    },
    {
     "data": {
      "text/plain": [
       "<Axes: title={'center': 'Distortion Score Elbow for KMeans Clustering'}, xlabel='k', ylabel='distortion score'>"
      ]
     },
     "execution_count": 11,
     "metadata": {},
     "output_type": "execute_result"
    }
   ],
   "source": [
    "kmeans = KMeans(random_state=42, n_init=\"auto\")\n",
    "visualizer = KElbowVisualizer(kmeans, k=(2, 20))\n",
    "visualizer.fit(df[['best_bid_price', 'best_bid_qty', 'best_ask_price', 'best_ask_qty']])\n",
    "visualizer.show()"
   ]
  },
  {
   "cell_type": "code",
   "execution_count": 18,
   "id": "4cce5f3e-0c77-44d4-9eb2-4ab9b418066b",
   "metadata": {},
   "outputs": [
    {
     "data": {
      "text/plain": [
       "array([15,  3, 15, ...,  3,  3,  3], dtype=int32)"
      ]
     },
     "execution_count": 18,
     "metadata": {},
     "output_type": "execute_result"
    }
   ],
   "source": [
    "kmeans.labels_"
   ]
  },
  {
   "cell_type": "code",
   "execution_count": 19,
   "id": "3253dcb0-938f-4318-9c0b-ea3946a4b478",
   "metadata": {},
   "outputs": [
    {
     "data": {
      "text/plain": [
       "array([[4.30971027e+04, 6.30512819e+00, 4.30972074e+04, 7.58810626e+00],\n",
       "       [4.27828269e+04, 7.04445117e+00, 4.27829323e+04, 6.62592940e+00],\n",
       "       [4.29166000e+04, 6.20505014e+00, 4.29167056e+04, 6.11623203e+00],\n",
       "       [4.32296804e+04, 5.65968567e+00, 4.32297863e+04, 5.99134532e+00],\n",
       "       [4.26622202e+04, 5.54387669e+00, 4.26623256e+04, 6.79231952e+00],\n",
       "       [4.30497487e+04, 5.47702734e+00, 4.30498559e+04, 6.45661464e+00],\n",
       "       [4.31811321e+04, 5.55205385e+00, 4.31812360e+04, 6.10588843e+00],\n",
       "       [4.28522607e+04, 5.97417388e+00, 4.28523643e+04, 7.11006328e+00],\n",
       "       [4.25870463e+04, 6.32539824e+00, 4.25871501e+04, 7.25588604e+00],\n",
       "       [4.33313804e+04, 4.64346265e+00, 4.33314950e+04, 5.22338844e+00],\n",
       "       [4.29820312e+04, 5.90053076e+00, 4.29821363e+04, 6.21036420e+00],\n",
       "       [4.27452113e+04, 6.25933001e+00, 4.27453162e+04, 7.66829989e+00],\n",
       "       [4.28761192e+04, 6.23742222e+00, 4.28762240e+04, 6.27119928e+00],\n",
       "       [4.26236541e+04, 7.05183817e+00, 4.26237614e+04, 6.04591220e+00],\n",
       "       [4.31426805e+04, 6.65916405e+00, 4.31427841e+04, 6.93423810e+00],\n",
       "       [4.26913760e+04, 6.08444747e+00, 4.26914813e+04, 5.63529143e+00],\n",
       "       [4.32873979e+04, 4.89008780e+00, 4.32875068e+04, 5.81248481e+00],\n",
       "       [4.28308740e+04, 6.51160725e+00, 4.28309765e+04, 6.77053046e+00],\n",
       "       [4.30274316e+04, 6.18487770e+00, 4.30275381e+04, 5.70836008e+00],\n",
       "       [4.30726510e+04, 6.16762781e+00, 4.30727566e+04, 6.19069272e+00],\n",
       "       [4.28959895e+04, 6.42005327e+00, 4.28960941e+04, 7.19418494e+00],\n",
       "       [4.32013558e+04, 5.98472891e+00, 4.32014602e+04, 6.05883901e+00],\n",
       "       [4.29360809e+04, 6.15182574e+00, 4.29361864e+04, 6.45790585e+00],\n",
       "       [4.27637394e+04, 6.52149113e+00, 4.27638432e+04, 7.71518181e+00],\n",
       "       [4.29591955e+04, 6.19103483e+00, 4.29593004e+04, 6.30269835e+00],\n",
       "       [4.31622376e+04, 6.02498583e+00, 4.31623415e+04, 6.18783673e+00],\n",
       "       [4.27206741e+04, 5.48701270e+00, 4.27207821e+04, 5.59521786e+00],\n",
       "       [4.32569862e+04, 5.69011065e+00, 4.32570942e+04, 5.40693340e+00],\n",
       "       [4.28064256e+04, 6.86812624e+00, 4.28065322e+04, 5.88615520e+00],\n",
       "       [4.31192587e+04, 6.56884474e+00, 4.31193626e+04, 6.38381972e+00],\n",
       "       [4.30040613e+04, 5.57544111e+00, 4.30041730e+04, 5.76384811e+00],\n",
       "       [4.33558068e+04, 5.59552931e+00, 4.33559166e+04, 5.40990172e+00]])"
      ]
     },
     "execution_count": 19,
     "metadata": {},
     "output_type": "execute_result"
    }
   ],
   "source": [
    "kmeans.cluster_centers_"
   ]
  }
 ],
 "metadata": {
  "kernelspec": {
   "display_name": "Python 3 (ipykernel)",
   "language": "python",
   "name": "python3"
  },
  "language_info": {
   "codemirror_mode": {
    "name": "ipython",
    "version": 3
   },
   "file_extension": ".py",
   "mimetype": "text/x-python",
   "name": "python",
   "nbconvert_exporter": "python",
   "pygments_lexer": "ipython3",
   "version": "3.12.2"
  }
 },
 "nbformat": 4,
 "nbformat_minor": 5
}
