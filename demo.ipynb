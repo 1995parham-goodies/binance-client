{
 "cells": [
  {
   "cell_type": "code",
   "execution_count": 1,
   "id": "ada0770d-5c53-4e21-a219-c34b172522e0",
   "metadata": {
    "editable": true,
    "slideshow": {
     "slide_type": ""
    },
    "tags": []
   },
   "outputs": [],
   "source": [
    "import pandas as pd\n",
    "import numpy as np\n",
    "import matplotlib.pyplot as plt"
   ]
  },
  {
   "cell_type": "markdown",
   "id": "dfb85375-c4fd-4abf-ae52-0d83c4301e0e",
   "metadata": {},
   "source": [
    "We are going to use BTC/USDT data from the Feb 06, 2024 data in this notebook. Each record shows a transaction in which a person wants to sell with `best_ask_price` and get a deal with `best_bid_price`.\n",
    "The same goes for the quantity, seller wants to sell `best_ask_qty` but buyer only buys `best_bid_qty`."
   ]
  },
  {
   "cell_type": "code",
   "execution_count": 2,
   "id": "b66cb753-9361-4ed8-b301-0d1adf166378",
   "metadata": {},
   "outputs": [],
   "source": [
    "df = pd.read_csv('BTCUSDT-bookTicker-2024-02-06.csv')"
   ]
  },
  {
   "cell_type": "code",
   "execution_count": 3,
   "id": "0803f4da-033c-4ec8-8966-5af5845c60d3",
   "metadata": {},
   "outputs": [
    {
     "data": {
      "text/html": [
       "<div>\n",
       "<style scoped>\n",
       "    .dataframe tbody tr th:only-of-type {\n",
       "        vertical-align: middle;\n",
       "    }\n",
       "\n",
       "    .dataframe tbody tr th {\n",
       "        vertical-align: top;\n",
       "    }\n",
       "\n",
       "    .dataframe thead th {\n",
       "        text-align: right;\n",
       "    }\n",
       "</style>\n",
       "<table border=\"1\" class=\"dataframe\">\n",
       "  <thead>\n",
       "    <tr style=\"text-align: right;\">\n",
       "      <th></th>\n",
       "      <th>update_id</th>\n",
       "      <th>best_bid_price</th>\n",
       "      <th>best_bid_qty</th>\n",
       "      <th>best_ask_price</th>\n",
       "      <th>best_ask_qty</th>\n",
       "      <th>transaction_time</th>\n",
       "      <th>event_time</th>\n",
       "    </tr>\n",
       "  </thead>\n",
       "  <tbody>\n",
       "    <tr>\n",
       "      <th>0</th>\n",
       "      <td>3936653543857</td>\n",
       "      <td>42692.9</td>\n",
       "      <td>0.587</td>\n",
       "      <td>42693.0</td>\n",
       "      <td>5.645</td>\n",
       "      <td>1707177600000</td>\n",
       "      <td>1707177600004</td>\n",
       "    </tr>\n",
       "    <tr>\n",
       "      <th>1</th>\n",
       "      <td>3939719410110</td>\n",
       "      <td>43233.4</td>\n",
       "      <td>0.846</td>\n",
       "      <td>43233.6</td>\n",
       "      <td>10.399</td>\n",
       "      <td>1707235233178</td>\n",
       "      <td>1707235233182</td>\n",
       "    </tr>\n",
       "    <tr>\n",
       "      <th>2</th>\n",
       "      <td>3936653543872</td>\n",
       "      <td>42692.9</td>\n",
       "      <td>0.584</td>\n",
       "      <td>42693.0</td>\n",
       "      <td>5.645</td>\n",
       "      <td>1707177600000</td>\n",
       "      <td>1707177600004</td>\n",
       "    </tr>\n",
       "    <tr>\n",
       "      <th>3</th>\n",
       "      <td>3939719410130</td>\n",
       "      <td>43233.4</td>\n",
       "      <td>0.846</td>\n",
       "      <td>43233.6</td>\n",
       "      <td>10.636</td>\n",
       "      <td>1707235233178</td>\n",
       "      <td>1707235233182</td>\n",
       "    </tr>\n",
       "    <tr>\n",
       "      <th>4</th>\n",
       "      <td>3936653543878</td>\n",
       "      <td>42692.9</td>\n",
       "      <td>0.562</td>\n",
       "      <td>42693.0</td>\n",
       "      <td>5.645</td>\n",
       "      <td>1707177600000</td>\n",
       "      <td>1707177600004</td>\n",
       "    </tr>\n",
       "  </tbody>\n",
       "</table>\n",
       "</div>"
      ],
      "text/plain": [
       "       update_id  best_bid_price  best_bid_qty  best_ask_price  best_ask_qty  \\\n",
       "0  3936653543857         42692.9         0.587         42693.0         5.645   \n",
       "1  3939719410110         43233.4         0.846         43233.6        10.399   \n",
       "2  3936653543872         42692.9         0.584         42693.0         5.645   \n",
       "3  3939719410130         43233.4         0.846         43233.6        10.636   \n",
       "4  3936653543878         42692.9         0.562         42693.0         5.645   \n",
       "\n",
       "   transaction_time     event_time  \n",
       "0     1707177600000  1707177600004  \n",
       "1     1707235233178  1707235233182  \n",
       "2     1707177600000  1707177600004  \n",
       "3     1707235233178  1707235233182  \n",
       "4     1707177600000  1707177600004  "
      ]
     },
     "execution_count": 3,
     "metadata": {},
     "output_type": "execute_result"
    }
   ],
   "source": [
    "df.head()"
   ]
  },
  {
   "cell_type": "code",
   "execution_count": 4,
   "id": "3fcf72ce-c4ca-4deb-a5a6-4759da50c23b",
   "metadata": {},
   "outputs": [],
   "source": [
    "df['transaction_time'] = pd.to_datetime(df['transaction_time'], unit='ms')"
   ]
  },
  {
   "cell_type": "code",
   "execution_count": 5,
   "id": "e69764f6-87e9-4cae-8390-3916d3a14ee6",
   "metadata": {},
   "outputs": [
    {
     "data": {
      "text/html": [
       "<div>\n",
       "<style scoped>\n",
       "    .dataframe tbody tr th:only-of-type {\n",
       "        vertical-align: middle;\n",
       "    }\n",
       "\n",
       "    .dataframe tbody tr th {\n",
       "        vertical-align: top;\n",
       "    }\n",
       "\n",
       "    .dataframe thead th {\n",
       "        text-align: right;\n",
       "    }\n",
       "</style>\n",
       "<table border=\"1\" class=\"dataframe\">\n",
       "  <thead>\n",
       "    <tr style=\"text-align: right;\">\n",
       "      <th></th>\n",
       "      <th>update_id</th>\n",
       "      <th>best_bid_price</th>\n",
       "      <th>best_bid_qty</th>\n",
       "      <th>best_ask_price</th>\n",
       "      <th>best_ask_qty</th>\n",
       "      <th>transaction_time</th>\n",
       "      <th>event_time</th>\n",
       "    </tr>\n",
       "  </thead>\n",
       "  <tbody>\n",
       "    <tr>\n",
       "      <th>0</th>\n",
       "      <td>3936653543857</td>\n",
       "      <td>42692.9</td>\n",
       "      <td>0.587</td>\n",
       "      <td>42693.0</td>\n",
       "      <td>5.645</td>\n",
       "      <td>2024-02-06 00:00:00.000</td>\n",
       "      <td>1707177600004</td>\n",
       "    </tr>\n",
       "    <tr>\n",
       "      <th>1</th>\n",
       "      <td>3939719410110</td>\n",
       "      <td>43233.4</td>\n",
       "      <td>0.846</td>\n",
       "      <td>43233.6</td>\n",
       "      <td>10.399</td>\n",
       "      <td>2024-02-06 16:00:33.178</td>\n",
       "      <td>1707235233182</td>\n",
       "    </tr>\n",
       "    <tr>\n",
       "      <th>2</th>\n",
       "      <td>3936653543872</td>\n",
       "      <td>42692.9</td>\n",
       "      <td>0.584</td>\n",
       "      <td>42693.0</td>\n",
       "      <td>5.645</td>\n",
       "      <td>2024-02-06 00:00:00.000</td>\n",
       "      <td>1707177600004</td>\n",
       "    </tr>\n",
       "    <tr>\n",
       "      <th>3</th>\n",
       "      <td>3939719410130</td>\n",
       "      <td>43233.4</td>\n",
       "      <td>0.846</td>\n",
       "      <td>43233.6</td>\n",
       "      <td>10.636</td>\n",
       "      <td>2024-02-06 16:00:33.178</td>\n",
       "      <td>1707235233182</td>\n",
       "    </tr>\n",
       "    <tr>\n",
       "      <th>4</th>\n",
       "      <td>3936653543878</td>\n",
       "      <td>42692.9</td>\n",
       "      <td>0.562</td>\n",
       "      <td>42693.0</td>\n",
       "      <td>5.645</td>\n",
       "      <td>2024-02-06 00:00:00.000</td>\n",
       "      <td>1707177600004</td>\n",
       "    </tr>\n",
       "  </tbody>\n",
       "</table>\n",
       "</div>"
      ],
      "text/plain": [
       "       update_id  best_bid_price  best_bid_qty  best_ask_price  best_ask_qty  \\\n",
       "0  3936653543857         42692.9         0.587         42693.0         5.645   \n",
       "1  3939719410110         43233.4         0.846         43233.6        10.399   \n",
       "2  3936653543872         42692.9         0.584         42693.0         5.645   \n",
       "3  3939719410130         43233.4         0.846         43233.6        10.636   \n",
       "4  3936653543878         42692.9         0.562         42693.0         5.645   \n",
       "\n",
       "         transaction_time     event_time  \n",
       "0 2024-02-06 00:00:00.000  1707177600004  \n",
       "1 2024-02-06 16:00:33.178  1707235233182  \n",
       "2 2024-02-06 00:00:00.000  1707177600004  \n",
       "3 2024-02-06 16:00:33.178  1707235233182  \n",
       "4 2024-02-06 00:00:00.000  1707177600004  "
      ]
     },
     "execution_count": 5,
     "metadata": {},
     "output_type": "execute_result"
    }
   ],
   "source": [
    "df.head()"
   ]
  },
  {
   "cell_type": "code",
   "execution_count": 6,
   "id": "2baf20ab-5daa-4e18-a158-d58f224046d8",
   "metadata": {},
   "outputs": [],
   "source": [
    "df['event_time'] = pd.to_datetime(df['event_time'], unit='ms')"
   ]
  },
  {
   "cell_type": "code",
   "execution_count": 7,
   "id": "44ac5b81-68aa-4399-9f43-5c8da4c6fb6c",
   "metadata": {},
   "outputs": [
    {
     "data": {
      "text/html": [
       "<div>\n",
       "<style scoped>\n",
       "    .dataframe tbody tr th:only-of-type {\n",
       "        vertical-align: middle;\n",
       "    }\n",
       "\n",
       "    .dataframe tbody tr th {\n",
       "        vertical-align: top;\n",
       "    }\n",
       "\n",
       "    .dataframe thead th {\n",
       "        text-align: right;\n",
       "    }\n",
       "</style>\n",
       "<table border=\"1\" class=\"dataframe\">\n",
       "  <thead>\n",
       "    <tr style=\"text-align: right;\">\n",
       "      <th></th>\n",
       "      <th>update_id</th>\n",
       "      <th>best_bid_price</th>\n",
       "      <th>best_bid_qty</th>\n",
       "      <th>best_ask_price</th>\n",
       "      <th>best_ask_qty</th>\n",
       "      <th>transaction_time</th>\n",
       "      <th>event_time</th>\n",
       "    </tr>\n",
       "  </thead>\n",
       "  <tbody>\n",
       "    <tr>\n",
       "      <th>0</th>\n",
       "      <td>3936653543857</td>\n",
       "      <td>42692.9</td>\n",
       "      <td>0.587</td>\n",
       "      <td>42693.0</td>\n",
       "      <td>5.645</td>\n",
       "      <td>2024-02-06 00:00:00.000</td>\n",
       "      <td>2024-02-06 00:00:00.004</td>\n",
       "    </tr>\n",
       "    <tr>\n",
       "      <th>1</th>\n",
       "      <td>3939719410110</td>\n",
       "      <td>43233.4</td>\n",
       "      <td>0.846</td>\n",
       "      <td>43233.6</td>\n",
       "      <td>10.399</td>\n",
       "      <td>2024-02-06 16:00:33.178</td>\n",
       "      <td>2024-02-06 16:00:33.182</td>\n",
       "    </tr>\n",
       "    <tr>\n",
       "      <th>2</th>\n",
       "      <td>3936653543872</td>\n",
       "      <td>42692.9</td>\n",
       "      <td>0.584</td>\n",
       "      <td>42693.0</td>\n",
       "      <td>5.645</td>\n",
       "      <td>2024-02-06 00:00:00.000</td>\n",
       "      <td>2024-02-06 00:00:00.004</td>\n",
       "    </tr>\n",
       "    <tr>\n",
       "      <th>3</th>\n",
       "      <td>3939719410130</td>\n",
       "      <td>43233.4</td>\n",
       "      <td>0.846</td>\n",
       "      <td>43233.6</td>\n",
       "      <td>10.636</td>\n",
       "      <td>2024-02-06 16:00:33.178</td>\n",
       "      <td>2024-02-06 16:00:33.182</td>\n",
       "    </tr>\n",
       "    <tr>\n",
       "      <th>4</th>\n",
       "      <td>3936653543878</td>\n",
       "      <td>42692.9</td>\n",
       "      <td>0.562</td>\n",
       "      <td>42693.0</td>\n",
       "      <td>5.645</td>\n",
       "      <td>2024-02-06 00:00:00.000</td>\n",
       "      <td>2024-02-06 00:00:00.004</td>\n",
       "    </tr>\n",
       "  </tbody>\n",
       "</table>\n",
       "</div>"
      ],
      "text/plain": [
       "       update_id  best_bid_price  best_bid_qty  best_ask_price  best_ask_qty  \\\n",
       "0  3936653543857         42692.9         0.587         42693.0         5.645   \n",
       "1  3939719410110         43233.4         0.846         43233.6        10.399   \n",
       "2  3936653543872         42692.9         0.584         42693.0         5.645   \n",
       "3  3939719410130         43233.4         0.846         43233.6        10.636   \n",
       "4  3936653543878         42692.9         0.562         42693.0         5.645   \n",
       "\n",
       "         transaction_time              event_time  \n",
       "0 2024-02-06 00:00:00.000 2024-02-06 00:00:00.004  \n",
       "1 2024-02-06 16:00:33.178 2024-02-06 16:00:33.182  \n",
       "2 2024-02-06 00:00:00.000 2024-02-06 00:00:00.004  \n",
       "3 2024-02-06 16:00:33.178 2024-02-06 16:00:33.182  \n",
       "4 2024-02-06 00:00:00.000 2024-02-06 00:00:00.004  "
      ]
     },
     "execution_count": 7,
     "metadata": {},
     "output_type": "execute_result"
    }
   ],
   "source": [
    "df.head()"
   ]
  },
  {
   "cell_type": "markdown",
   "id": "6831dd3c-a51b-406e-9cbe-00a352c913ca",
   "metadata": {},
   "source": [
    "Group by hour to see the number of transactions in each hour"
   ]
  },
  {
   "cell_type": "code",
   "execution_count": 8,
   "id": "e7c041f8-3f8c-4c7b-ac15-368837827b54",
   "metadata": {},
   "outputs": [],
   "source": [
    "grouped = df.groupby([df['transaction_time'].dt.hour])"
   ]
  },
  {
   "cell_type": "code",
   "execution_count": 9,
   "id": "129cdf04-3c70-4a32-85d6-3e961d53fb18",
   "metadata": {},
   "outputs": [
    {
     "data": {
      "text/plain": [
       "transaction_time\n",
       "0      883747\n",
       "1      955074\n",
       "2     1165062\n",
       "3      867975\n",
       "4      849887\n",
       "5      814240\n",
       "6      829777\n",
       "7      809152\n",
       "8     1451969\n",
       "9     1123615\n",
       "10    1620430\n",
       "11    1307003\n",
       "12    1283219\n",
       "13    1412374\n",
       "14    1482887\n",
       "15    1855624\n",
       "16    1921017\n",
       "17    1283150\n",
       "18    1077940\n",
       "19    1015262\n",
       "20    1160909\n",
       "21     894236\n",
       "22     663772\n",
       "23     811752\n",
       "Name: update_id, dtype: int64"
      ]
     },
     "execution_count": 9,
     "metadata": {},
     "output_type": "execute_result"
    }
   ],
   "source": [
    "grouped['update_id'].count()"
   ]
  },
  {
   "cell_type": "code",
   "execution_count": 10,
   "id": "b38782f2-e7de-4493-9105-80c300e4a519",
   "metadata": {},
   "outputs": [],
   "source": [
    "from sklearn.cluster import KMeans\n",
    "from yellowbrick.cluster import KElbowVisualizer"
   ]
  },
  {
   "cell_type": "markdown",
   "id": "463287e8-bdf3-40c1-8078-b511af359ae0",
   "metadata": {},
   "source": [
    "Find the best `k` for clustering based on the distribution score (which is based on coherence).\n",
    "To have the required accuracy, we normalize the columns that we are going to use in KMeans."
   ]
  },
  {
   "cell_type": "code",
   "execution_count": 11,
   "id": "9c09b284-e5c8-43e8-83e3-855042e05c1e",
   "metadata": {},
   "outputs": [],
   "source": [
    "df_bid_ask = df[['best_bid_price', 'best_bid_qty', 'best_ask_price', 'best_ask_qty']]\n",
    "df_bid_ask=(df_bid_ask-df_bid_ask.mean())/df_bid_ask.std()"
   ]
  },
  {
   "cell_type": "code",
   "execution_count": 12,
   "id": "8cb6644d-3282-4d52-9013-5cffc37e329f",
   "metadata": {},
   "outputs": [
    {
     "data": {
      "text/html": [
       "<div>\n",
       "<style scoped>\n",
       "    .dataframe tbody tr th:only-of-type {\n",
       "        vertical-align: middle;\n",
       "    }\n",
       "\n",
       "    .dataframe tbody tr th {\n",
       "        vertical-align: top;\n",
       "    }\n",
       "\n",
       "    .dataframe thead th {\n",
       "        text-align: right;\n",
       "    }\n",
       "</style>\n",
       "<table border=\"1\" class=\"dataframe\">\n",
       "  <thead>\n",
       "    <tr style=\"text-align: right;\">\n",
       "      <th></th>\n",
       "      <th>best_bid_price</th>\n",
       "      <th>best_bid_qty</th>\n",
       "      <th>best_ask_price</th>\n",
       "      <th>best_ask_qty</th>\n",
       "    </tr>\n",
       "  </thead>\n",
       "  <tbody>\n",
       "    <tr>\n",
       "      <th>0</th>\n",
       "      <td>-1.397036</td>\n",
       "      <td>-0.947282</td>\n",
       "      <td>-1.397062</td>\n",
       "      <td>-0.123554</td>\n",
       "    </tr>\n",
       "    <tr>\n",
       "      <th>1</th>\n",
       "      <td>1.415551</td>\n",
       "      <td>-0.903175</td>\n",
       "      <td>1.416043</td>\n",
       "      <td>0.621299</td>\n",
       "    </tr>\n",
       "    <tr>\n",
       "      <th>2</th>\n",
       "      <td>-1.397036</td>\n",
       "      <td>-0.947793</td>\n",
       "      <td>-1.397062</td>\n",
       "      <td>-0.123554</td>\n",
       "    </tr>\n",
       "    <tr>\n",
       "      <th>3</th>\n",
       "      <td>1.415551</td>\n",
       "      <td>-0.903175</td>\n",
       "      <td>1.416043</td>\n",
       "      <td>0.658433</td>\n",
       "    </tr>\n",
       "    <tr>\n",
       "      <th>4</th>\n",
       "      <td>-1.397036</td>\n",
       "      <td>-0.951539</td>\n",
       "      <td>-1.397062</td>\n",
       "      <td>-0.123554</td>\n",
       "    </tr>\n",
       "    <tr>\n",
       "      <th>...</th>\n",
       "      <td>...</td>\n",
       "      <td>...</td>\n",
       "      <td>...</td>\n",
       "      <td>...</td>\n",
       "    </tr>\n",
       "    <tr>\n",
       "      <th>27540068</th>\n",
       "      <td>1.416072</td>\n",
       "      <td>-1.035666</td>\n",
       "      <td>1.416043</td>\n",
       "      <td>0.171003</td>\n",
       "    </tr>\n",
       "    <tr>\n",
       "      <th>27540069</th>\n",
       "      <td>1.416072</td>\n",
       "      <td>-1.035666</td>\n",
       "      <td>1.416043</td>\n",
       "      <td>0.359018</td>\n",
       "    </tr>\n",
       "    <tr>\n",
       "      <th>27540070</th>\n",
       "      <td>1.416072</td>\n",
       "      <td>-1.035666</td>\n",
       "      <td>1.416043</td>\n",
       "      <td>0.463680</td>\n",
       "    </tr>\n",
       "    <tr>\n",
       "      <th>27540071</th>\n",
       "      <td>1.416072</td>\n",
       "      <td>-1.035666</td>\n",
       "      <td>1.416043</td>\n",
       "      <td>0.519301</td>\n",
       "    </tr>\n",
       "    <tr>\n",
       "      <th>27540072</th>\n",
       "      <td>1.415551</td>\n",
       "      <td>-0.903175</td>\n",
       "      <td>1.416043</td>\n",
       "      <td>0.519301</td>\n",
       "    </tr>\n",
       "  </tbody>\n",
       "</table>\n",
       "<p>27540073 rows × 4 columns</p>\n",
       "</div>"
      ],
      "text/plain": [
       "          best_bid_price  best_bid_qty  best_ask_price  best_ask_qty\n",
       "0              -1.397036     -0.947282       -1.397062     -0.123554\n",
       "1               1.415551     -0.903175        1.416043      0.621299\n",
       "2              -1.397036     -0.947793       -1.397062     -0.123554\n",
       "3               1.415551     -0.903175        1.416043      0.658433\n",
       "4              -1.397036     -0.951539       -1.397062     -0.123554\n",
       "...                  ...           ...             ...           ...\n",
       "27540068        1.416072     -1.035666        1.416043      0.171003\n",
       "27540069        1.416072     -1.035666        1.416043      0.359018\n",
       "27540070        1.416072     -1.035666        1.416043      0.463680\n",
       "27540071        1.416072     -1.035666        1.416043      0.519301\n",
       "27540072        1.415551     -0.903175        1.416043      0.519301\n",
       "\n",
       "[27540073 rows x 4 columns]"
      ]
     },
     "execution_count": 12,
     "metadata": {},
     "output_type": "execute_result"
    }
   ],
   "source": [
    "df_bid_ask"
   ]
  },
  {
   "cell_type": "code",
   "execution_count": null,
   "id": "670cd00c-cfea-4c1a-b073-8f567362b7bc",
   "metadata": {},
   "outputs": [],
   "source": [
    "kmeans = KMeans(random_state=42, n_init=\"auto\")\n",
    "visualizer = KElbowVisualizer(kmeans, k=(2, 10))\n",
    "visualizer.fit(df_bid_ask)\n",
    "visualizer.show()"
   ]
  },
  {
   "cell_type": "code",
   "execution_count": null,
   "id": "4cce5f3e-0c77-44d4-9eb2-4ab9b418066b",
   "metadata": {},
   "outputs": [],
   "source": [
    "kmeans = KMeans(n_clusters=4).fit(df_bid_ask)"
   ]
  },
  {
   "cell_type": "code",
   "execution_count": null,
   "id": "3253dcb0-938f-4318-9c0b-ea3946a4b478",
   "metadata": {},
   "outputs": [],
   "source": [
    "kmeans.cluster_centers_"
   ]
  },
  {
   "cell_type": "markdown",
   "id": "f0a42281-0e09-4fce-9b4e-a8b8e2fe9286",
   "metadata": {},
   "source": [
    "Provide total best bid by multiplying price into quantity."
   ]
  },
  {
   "cell_type": "code",
   "execution_count": null,
   "id": "5cefea24-a398-4f8b-a343-3a3271fcf6c3",
   "metadata": {},
   "outputs": [],
   "source": [
    "df['best_bid_total'] = df['best_bid_price'] * df['best_bid_qty']"
   ]
  },
  {
   "cell_type": "markdown",
   "id": "320441c3-5e7c-4f3f-8a44-09a1fac888f1",
   "metadata": {},
   "source": [
    "We are going to see the distribution of the total best bid over time."
   ]
  },
  {
   "cell_type": "code",
   "execution_count": null,
   "id": "0093c9bd-019b-4497-9f8b-fd717726dfbf",
   "metadata": {},
   "outputs": [],
   "source": [
    "df_group_by_timestamp = df.groupby('transaction_time').mean().reset_index()\n",
    "plt.plot(df_group_by_timestamp['transaction_time'], df_group_by_timestamp['best_bid_total'])"
   ]
  },
  {
   "cell_type": "markdown",
   "id": "49a6b746-64a4-45f1-ae0a-49d5cd957524",
   "metadata": {},
   "source": [
    "The mean distribution contains peaks which we need to investigate more and see why they are happing?"
   ]
  },
  {
   "cell_type": "code",
   "execution_count": null,
   "id": "a5ce4277-9ac3-4890-bca5-9631ebb3561f",
   "metadata": {},
   "outputs": [],
   "source": [
    "df_group_by_timestamp = df.groupby('transaction_time').count().reset_index()\n",
    "plt.plot(df_group_by_timestamp['transaction_time'], df_group_by_timestamp['best_bid_total'])"
   ]
  },
  {
   "cell_type": "markdown",
   "id": "8c27080d-0778-461a-9892-ccf1704b2e1e",
   "metadata": {},
   "source": [
    "The count distribution, unlike the mean, doesn't contain any peak which shows these peak shouldn't happen because of low number of transactions."
   ]
  },
  {
   "cell_type": "code",
   "execution_count": null,
   "id": "d2a5ce53-6a18-495b-a5af-f9f36f6c05e8",
   "metadata": {},
   "outputs": [],
   "source": [
    "df_group_by_timestamp = df.groupby('transaction_time').median().reset_index()\n",
    "plt.plot(df_group_by_timestamp['transaction_time'], df_group_by_timestamp['best_bid_total'])"
   ]
  },
  {
   "cell_type": "markdown",
   "id": "639ba166-da97-4fa3-b6a0-cf84a0459d99",
   "metadata": {},
   "source": [
    "Create another Data frame for the outliers based on their total bid."
   ]
  },
  {
   "cell_type": "markdown",
   "id": "cda8d517-0123-4795-9723-4aeccfe80286",
   "metadata": {},
   "source": [
    "Based on the above diagrams, it seems we have some transaction which is not normal in our context. I am going to use histogram and see the distribution of the transactions value."
   ]
  },
  {
   "cell_type": "code",
   "execution_count": null,
   "id": "89cf6872-be39-4056-a594-2dfdb8748ec4",
   "metadata": {},
   "outputs": [],
   "source": [
    "counts, bins = np.histogram(df['best_bid_total'])\n",
    "\n",
    "plt.hist(bins[:-1], bins, weights=counts)"
   ]
  },
  {
   "cell_type": "code",
   "execution_count": null,
   "id": "654f1bf2-e503-42a5-b23f-611098bfcbbf",
   "metadata": {},
   "outputs": [],
   "source": [
    "bins, counts"
   ]
  },
  {
   "cell_type": "markdown",
   "id": "9e61baf6-c64a-4714-9c41-8dab3c14dbb9",
   "metadata": {},
   "source": [
    "Based on the histogram, it seems we have some actual outlier which we need to investigate. Let use KMeans and see its clustering with these outliers. For visualization of the clustering we can also used **LDA**."
   ]
  },
  {
   "cell_type": "code",
   "execution_count": null,
   "id": "f65c2e93-7d5d-40e1-aa29-70a2072df66f",
   "metadata": {},
   "outputs": [],
   "source": [
    "labels = kmeans.predict(df_bid_ask)"
   ]
  },
  {
   "cell_type": "code",
   "execution_count": null,
   "id": "f34b1d7c-f818-4e6d-bf00-a4ad1b4f6acf",
   "metadata": {},
   "outputs": [],
   "source": [
    "centroids = kmeans.cluster_centers_\n",
    "u_labels = np.unique(labels)\n",
    " \n",
    "for i in u_labels:\n",
    "    plt.scatter(df[labels == i]['best_bid_price'] , df[labels == i]['best_bid_qty'] , label = i)"
   ]
  },
  {
   "cell_type": "markdown",
   "id": "92a60001-3c05-434b-84ee-8f249aeb2d9b",
   "metadata": {},
   "source": [
    "It seems data is clustered using price, which is predictable because the only feature we have is price."
   ]
  },
  {
   "cell_type": "code",
   "execution_count": null,
   "id": "a91a207f-5ffb-4a89-b567-586920451ea9",
   "metadata": {},
   "outputs": [],
   "source": [
    "centroids = kmeans.cluster_centers_\n",
    "u_labels = np.unique(labels)\n",
    " \n",
    "for i in u_labels:\n",
    "    plt.scatter(df[labels == i]['best_bid_price'] , df[labels == i]['best_ask_price'] , label = i)"
   ]
  },
  {
   "cell_type": "markdown",
   "id": "876804de-efcb-47fc-92fa-6eff3b49a3e5",
   "metadata": {},
   "source": [
    "Based on these plots, seems data is only clustered by the `best_bid_price` which justifies the peaks we have in our day."
   ]
  },
  {
   "cell_type": "markdown",
   "id": "edf1b9fa-81a8-4c1b-8673-eb2ae2d266e1",
   "metadata": {},
   "source": [
    "Based on the clustering we figured out that `best_bid_price` and `best_ask_price` are always similar, so we went for another metrics `best_spread_price` and `best_spread_qty` which is the difference between `bid` and `ask` prices and show the market status. We have different type of order books, we need to know which one here we have."
   ]
  },
  {
   "cell_type": "code",
   "execution_count": null,
   "id": "fb499e48-6df4-4e79-bc5a-0e9d94698cc1",
   "metadata": {},
   "outputs": [],
   "source": [
    "df['best_spread_price'] = df['best_ask_price'] - df['best_bid_price']\n",
    "\n",
    "df_group_by_timestamp = df.groupby('transaction_time').median().reset_index()\n",
    "\n",
    "plt.plot(df_group_by_timestamp['transaction_time'], df_group_by_timestamp['best_spread_price'])"
   ]
  },
  {
   "cell_type": "code",
   "execution_count": null,
   "id": "5f81b453-34fc-4bf5-82c2-32a32cd2d7ad",
   "metadata": {},
   "outputs": [],
   "source": [
    "df[df['best_spread_price'] > 30]"
   ]
  },
  {
   "cell_type": "code",
   "execution_count": null,
   "id": "4f2b80ab-d222-48a7-8793-f1214888af10",
   "metadata": {},
   "outputs": [],
   "source": [
    "df['best_spread_qty'] = df['best_ask_qty'] - df['best_bid_qty']\n",
    "\n",
    "df_group_by_timestamp = df.groupby('transaction_time').median().reset_index()\n",
    "\n",
    "plt.plot(df_group_by_timestamp['transaction_time'], df_group_by_timestamp['best_spread_qty'])"
   ]
  },
  {
   "cell_type": "markdown",
   "id": "cd26d2ad-aec8-497b-adcf-1956d9a44321",
   "metadata": {},
   "source": [
    "There are records in which seller wants to sell less than 1 coin but buyer, buys around 100 coins! which is insance."
   ]
  },
  {
   "cell_type": "code",
   "execution_count": null,
   "id": "193f3579-7673-4dec-ad9e-279240974a21",
   "metadata": {},
   "outputs": [],
   "source": [
    "df[df['best_spread_qty'] < -100]"
   ]
  },
  {
   "cell_type": "code",
   "execution_count": null,
   "id": "680de778-df9a-4294-805c-e9d0c3300bb9",
   "metadata": {},
   "outputs": [],
   "source": [
    "df_outliers = df_group_by_timestamp[df_group_by_timestamp['best_bid_total'] > 2e6]\n",
    "df_outliers"
   ]
  },
  {
   "cell_type": "markdown",
   "id": "ad9d6e13-7a98-4dd1-87cc-573ec36595b8",
   "metadata": {},
   "source": [
    "It seems, people may buy more or less than from the specified quantity (based on `ask`)."
   ]
  },
  {
   "cell_type": "code",
   "execution_count": null,
   "id": "900c6ff7-7a2a-4795-bb03-b11b076c0c53",
   "metadata": {},
   "outputs": [],
   "source": [
    "centroids = kmeans.cluster_centers_\n",
    "u_labels = np.unique(labels)\n",
    " \n",
    "for i in u_labels:\n",
    "    plt.scatter(df[labels == i]['best_spread_price'] , df[labels == i]['best_spread_qty'] , label = i)"
   ]
  },
  {
   "cell_type": "markdown",
   "id": "00aaf317-55ac-4bef-afab-431503d355e0",
   "metadata": {},
   "source": [
    "The above diagram shows that our current clustering is not good enough. I am going to train it again using our new `spread` columns. Besides that it shows people change the amount in the lower prices."
   ]
  },
  {
   "cell_type": "code",
   "execution_count": null,
   "id": "cbfafb4d-9811-4982-983a-1c2e17ff8e29",
   "metadata": {},
   "outputs": [],
   "source": [
    "kmeans = KMeans(n_clusters=6).fit(df[['best_spread_price', 'best_spread_qty']])\n",
    "labels = kmeans.predict(df[['best_spread_price', 'best_spread_qty']])"
   ]
  },
  {
   "cell_type": "code",
   "execution_count": null,
   "id": "030e40fa-7ed8-4a45-98b0-8613eac19f59",
   "metadata": {},
   "outputs": [],
   "source": [
    "centroids = kmeans.cluster_centers_\n",
    "u_labels = np.unique(labels)\n",
    "\n",
    "for i in u_labels:\n",
    "    plt.scatter(df[labels == i]['best_spread_price'] , df[labels == i]['best_spread_qty'] , label = i)\n",
    "plt.scatter(centroids[:,0] , centroids[:,1] , s = 80, color = 'k')\n",
    "plt.legend()"
   ]
  },
  {
   "cell_type": "code",
   "execution_count": null,
   "id": "3b0d1776-e432-4451-9631-5a65e81de055",
   "metadata": {},
   "outputs": [],
   "source": [
    "np.histogram(kmeans.predict(df_outliers[['best_spread_price', 'best_spread_qty']]))"
   ]
  },
  {
   "cell_type": "markdown",
   "id": "b48d01f1-2498-4f77-8224-8f4cdcc7c737",
   "metadata": {},
   "source": [
    "All the outliers lives in the label '3' which makes sense, because all of them buying more than what seller wants to sale."
   ]
  },
  {
   "cell_type": "markdown",
   "id": "f449a7fa-0bad-4fec-9c2e-6cc85bb66381",
   "metadata": {},
   "source": [
    "The new clustering makes more sense because it divides people based on the amount they buy in a transaction, not the price."
   ]
  },
  {
   "cell_type": "code",
   "execution_count": null,
   "id": "815188c3-3e99-481b-badd-0b59a94e1c1b",
   "metadata": {},
   "outputs": [],
   "source": [
    "df_ada = pd.read_csv('ADAUSDT-bookTicker-2024-02-06.csv')\n",
    "df_ada['transaction_time'] = pd.to_datetime(df_ada['transaction_time'], unit='ms')\n",
    "df_ada['event_time'] = pd.to_datetime(df_ada['event_time'], unit='ms')"
   ]
  },
  {
   "cell_type": "code",
   "execution_count": null,
   "id": "a8bac761-24cd-467b-880d-e28072da6b87",
   "metadata": {},
   "outputs": [],
   "source": [
    "df_ada['best_spread_price'] = df_ada['best_ask_price'] - df_ada['best_bid_price']\n",
    "df_ada['best_spread_qty'] = df_ada['best_ask_qty'] - df_ada['best_bid_qty']"
   ]
  },
  {
   "cell_type": "code",
   "execution_count": null,
   "id": "adfaff91-4a2c-474b-a9a3-6323cfbdeaec",
   "metadata": {},
   "outputs": [],
   "source": [
    "df_ada.head()"
   ]
  },
  {
   "cell_type": "code",
   "execution_count": null,
   "id": "72d1d9c9-1f2f-4ff3-91d9-73bc58c12ce9",
   "metadata": {},
   "outputs": [],
   "source": [
    "df_ada_group_by_timestamp = df_ada.groupby('transaction_time').median().reset_index()\n",
    "plt.plot(df_ada_group_by_timestamp['transaction_time'], df_ada_group_by_timestamp['best_spread_price'])"
   ]
  },
  {
   "cell_type": "code",
   "execution_count": null,
   "id": "d93dcf3a-8b54-41c4-8305-fdc2c8617347",
   "metadata": {},
   "outputs": [],
   "source": [
    "plt.plot(df_ada_group_by_timestamp['transaction_time'], df_ada_group_by_timestamp['best_spread_qty'])"
   ]
  },
  {
   "cell_type": "code",
   "execution_count": null,
   "id": "73e41c09-554e-47dd-b5a2-428ced2538c2",
   "metadata": {},
   "outputs": [],
   "source": [
    "ada_and_btc = pd.DataFrame()\n",
    "ada_and_btc['btc'] = (df.sort_values('transaction_time'))['best_bid_price']\n",
    "ada_and_btc['ada'] = (df_ada.sort_values('transaction_time'))['best_bid_price']"
   ]
  },
  {
   "cell_type": "code",
   "execution_count": null,
   "id": "259cce05-6fb9-42e4-bdff-3f3a4b190704",
   "metadata": {},
   "outputs": [],
   "source": [
    "ada_and_btc.corr()"
   ]
  },
  {
   "cell_type": "code",
   "execution_count": null,
   "id": "f156efa0-103e-4337-bb70-3aa4736e467e",
   "metadata": {},
   "outputs": [],
   "source": [
    "plt.plot(ada_and_btc['btc'], ada_and_btc['ada'])"
   ]
  },
  {
   "cell_type": "code",
   "execution_count": null,
   "id": "abd7065f-a30b-4c40-923e-cb1a0b2b42b7",
   "metadata": {},
   "outputs": [],
   "source": [
    "ada_and_btc['ada']"
   ]
  },
  {
   "cell_type": "code",
   "execution_count": null,
   "id": "6717ecf8-ca31-48de-a603-8f4affd36866",
   "metadata": {},
   "outputs": [],
   "source": [
    "ada_and_btc['btc']"
   ]
  },
  {
   "cell_type": "code",
   "execution_count": null,
   "id": "9caea865-6453-4562-b163-5e6513735d60",
   "metadata": {},
   "outputs": [],
   "source": [
    "df['total_bid_price'] = df['best_bid_price'] * df['best_bid_qty']\n",
    "df_ada['total_bid_price'] = df_ada['best_bid_price'] * df_ada['best_bid_qty']\n",
    "\n",
    "df['best_bid_price_normal'] = (df['best_bid_price'] - df['best_bid_price'].min()) / (df['best_bid_price'].max() - df['best_bid_price'].min())\n",
    "df_ada['best_bid_price_normal'] = (df_ada['best_bid_price'] - df_ada['best_bid_price'].min()) / (df_ada['best_bid_price'].max() - df_ada['best_bid_price'].min())\n",
    "\n",
    "df_group_by_timestamp = df.groupby('transaction_time').median().reset_index()\n",
    "df_ada_group_by_timestamp = df_ada.groupby('transaction_time').median().reset_index()\n",
    "\n",
    "plt.plot(df_ada_group_by_timestamp['transaction_time'], df_ada_group_by_timestamp['best_bid_price_normal'], label='ada')\n",
    "plt.plot(df_group_by_timestamp['transaction_time'], df_group_by_timestamp['best_bid_price_normal'], label='btc')\n",
    "plt.legend()\n",
    "plt.show()"
   ]
  },
  {
   "cell_type": "code",
   "execution_count": null,
   "id": "2aa2c677-8fe5-4a9d-a951-834911099d94",
   "metadata": {},
   "outputs": [],
   "source": [
    "ada_and_btc = pd.DataFrame()\n",
    "ada_and_btc['btc'] = (df_group_by_timestamp.set_index('transaction_time'))['best_bid_price']\n",
    "ada_and_btc['ada'] = (df_ada_group_by_timestamp.set_index('transaction_time'))['best_bid_price']\n",
    "ada_and_btc.dropna().corr()"
   ]
  },
  {
   "cell_type": "code",
   "execution_count": null,
   "id": "6296070f-51a7-47a6-b360-a6d73b93b4a4",
   "metadata": {},
   "outputs": [],
   "source": [
    "df[df['best_bid_price'] == 43000]"
   ]
  },
  {
   "cell_type": "code",
   "execution_count": null,
   "id": "491ccacf-4d50-4022-aa08-a8b664aa8d80",
   "metadata": {},
   "outputs": [],
   "source": [
    "import statsmodels.api as sm\n",
    "from statsmodels.tsa.stattools import adfuller, acf"
   ]
  },
  {
   "cell_type": "code",
   "execution_count": null,
   "id": "eb36a448-fbb7-4520-acea-9e10a2a12985",
   "metadata": {},
   "outputs": [],
   "source": [
    "df_group_by_minute = df.groupby([df['transaction_time'].dt.minute]).mean()\n",
    "\n",
    "result_adf = adfuller(df_group_by_minute.set_index('transaction_time')['best_bid_price'])\n",
    "print(\"ADF Statistic:\", result_adf[0])\n",
    "print(\"p-value:\", result_adf[1])"
   ]
  }
 ],
 "metadata": {
  "kernelspec": {
   "display_name": "Python 3 (ipykernel)",
   "language": "python",
   "name": "python3"
  },
  "language_info": {
   "codemirror_mode": {
    "name": "ipython",
    "version": 3
   },
   "file_extension": ".py",
   "mimetype": "text/x-python",
   "name": "python",
   "nbconvert_exporter": "python",
   "pygments_lexer": "ipython3",
   "version": "3.12.2"
  }
 },
 "nbformat": 4,
 "nbformat_minor": 5
}
