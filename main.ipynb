{
 "cells": [
  {
   "cell_type": "code",
   "execution_count": 1,
   "id": "initial_id",
   "metadata": {
    "ExecuteTime": {
     "end_time": "2024-02-21T12:37:16.242943Z",
     "start_time": "2024-02-21T12:37:15.245046Z"
    },
    "collapsed": true,
    "jupyter": {
     "outputs_hidden": true
    }
   },
   "outputs": [],
   "source": [
    "import pandas as pd\n",
    "import matplotlib.pyplot as plt"
   ]
  },
  {
   "cell_type": "code",
   "execution_count": 2,
   "id": "40781e1f94a81c49",
   "metadata": {
    "ExecuteTime": {
     "end_time": "2024-02-21T12:38:31.112369Z",
     "start_time": "2024-02-21T12:37:16.250978Z"
    },
    "collapsed": false,
    "jupyter": {
     "outputs_hidden": false
    }
   },
   "outputs": [],
   "source": [
    "df1 = pd.read_csv('BTCUSDT-bookTicker-2024-02-05.csv')\n",
    "df1['date'] = \"2024-02-05\"\n",
    "\n",
    "df2 = pd.read_csv('BTCUSDT-bookTicker-2024-02-08.csv')\n",
    "df2['date'] = \"2024-02-08\"\n",
    "\n",
    "df3 = pd.read_csv('BTCUSDT-bookTicker-2024-02-10.csv')\n",
    "df3['date'] = \"2024-02-10\"\n",
    "\n",
    "order_book_data = pd.concat([df1, df2, df3])"
   ]
  },
  {
   "cell_type": "code",
   "execution_count": 3,
   "id": "989d7fb8e1a5cb22",
   "metadata": {
    "ExecuteTime": {
     "end_time": "2024-02-21T12:38:32.287366Z",
     "start_time": "2024-02-21T12:38:31.037377Z"
    },
    "collapsed": false,
    "jupyter": {
     "outputs_hidden": false
    }
   },
   "outputs": [
    {
     "data": {
      "text/html": [
       "<div>\n",
       "<style scoped>\n",
       "    .dataframe tbody tr th:only-of-type {\n",
       "        vertical-align: middle;\n",
       "    }\n",
       "\n",
       "    .dataframe tbody tr th {\n",
       "        vertical-align: top;\n",
       "    }\n",
       "\n",
       "    .dataframe thead th {\n",
       "        text-align: right;\n",
       "    }\n",
       "</style>\n",
       "<table border=\"1\" class=\"dataframe\">\n",
       "  <thead>\n",
       "    <tr style=\"text-align: right;\">\n",
       "      <th></th>\n",
       "      <th>update_id</th>\n",
       "      <th>best_bid_price</th>\n",
       "      <th>best_bid_qty</th>\n",
       "      <th>best_ask_price</th>\n",
       "      <th>best_ask_qty</th>\n",
       "      <th>transaction_time</th>\n",
       "      <th>event_time</th>\n",
       "      <th>date</th>\n",
       "    </tr>\n",
       "  </thead>\n",
       "  <tbody>\n",
       "    <tr>\n",
       "      <th>0</th>\n",
       "      <td>3932256034651</td>\n",
       "      <td>42570.3</td>\n",
       "      <td>0.821</td>\n",
       "      <td>42570.4</td>\n",
       "      <td>7.207</td>\n",
       "      <td>1707091200006</td>\n",
       "      <td>1707091200012</td>\n",
       "      <td>2024-02-05</td>\n",
       "    </tr>\n",
       "    <tr>\n",
       "      <th>1</th>\n",
       "      <td>3935039505208</td>\n",
       "      <td>42852.1</td>\n",
       "      <td>11.398</td>\n",
       "      <td>42852.2</td>\n",
       "      <td>0.191</td>\n",
       "      <td>1707146647156</td>\n",
       "      <td>1707146647163</td>\n",
       "      <td>2024-02-05</td>\n",
       "    </tr>\n",
       "    <tr>\n",
       "      <th>2</th>\n",
       "      <td>3932256034756</td>\n",
       "      <td>42570.3</td>\n",
       "      <td>0.821</td>\n",
       "      <td>42570.4</td>\n",
       "      <td>9.604</td>\n",
       "      <td>1707091200008</td>\n",
       "      <td>1707091200014</td>\n",
       "      <td>2024-02-05</td>\n",
       "    </tr>\n",
       "    <tr>\n",
       "      <th>3</th>\n",
       "      <td>3935039505771</td>\n",
       "      <td>42852.1</td>\n",
       "      <td>11.211</td>\n",
       "      <td>42852.2</td>\n",
       "      <td>0.191</td>\n",
       "      <td>1707146647157</td>\n",
       "      <td>1707146647166</td>\n",
       "      <td>2024-02-05</td>\n",
       "    </tr>\n",
       "    <tr>\n",
       "      <th>4</th>\n",
       "      <td>3932256034998</td>\n",
       "      <td>42570.3</td>\n",
       "      <td>0.821</td>\n",
       "      <td>42570.4</td>\n",
       "      <td>7.207</td>\n",
       "      <td>1707091200010</td>\n",
       "      <td>1707091200017</td>\n",
       "      <td>2024-02-05</td>\n",
       "    </tr>\n",
       "  </tbody>\n",
       "</table>\n",
       "</div>"
      ],
      "text/plain": [
       "       update_id  best_bid_price  best_bid_qty  best_ask_price  best_ask_qty  \\\n",
       "0  3932256034651         42570.3         0.821         42570.4         7.207   \n",
       "1  3935039505208         42852.1        11.398         42852.2         0.191   \n",
       "2  3932256034756         42570.3         0.821         42570.4         9.604   \n",
       "3  3935039505771         42852.1        11.211         42852.2         0.191   \n",
       "4  3932256034998         42570.3         0.821         42570.4         7.207   \n",
       "\n",
       "   transaction_time     event_time        date  \n",
       "0     1707091200006  1707091200012  2024-02-05  \n",
       "1     1707146647156  1707146647163  2024-02-05  \n",
       "2     1707091200008  1707091200014  2024-02-05  \n",
       "3     1707146647157  1707146647166  2024-02-05  \n",
       "4     1707091200010  1707091200017  2024-02-05  "
      ]
     },
     "execution_count": 3,
     "metadata": {},
     "output_type": "execute_result"
    }
   ],
   "source": [
    "order_book_data.head()"
   ]
  },
  {
   "cell_type": "markdown",
   "id": "e47bce5c36ef53b",
   "metadata": {
    "collapsed": false,
    "jupyter": {
     "outputs_hidden": false
    }
   },
   "source": [
    "The meaning of each column?\n",
    "Why is it mentioned as best?\n",
    "What is the difference between transaction time and event time?\n",
    "What is updated id?"
   ]
  },
  {
   "cell_type": "code",
   "execution_count": 4,
   "id": "60537192139c9055",
   "metadata": {
    "ExecuteTime": {
     "end_time": "2024-02-21T12:38:50.342555Z",
     "start_time": "2024-02-21T12:38:31.128648Z"
    },
    "collapsed": false,
    "jupyter": {
     "outputs_hidden": false
    }
   },
   "outputs": [
    {
     "data": {
      "text/plain": [
       "transaction_datetime\n",
       "0     4361397\n",
       "1     3986567\n",
       "2     2928198\n",
       "3     2822699\n",
       "4     2706517\n",
       "5     2273037\n",
       "6     2321925\n",
       "7     3256356\n",
       "8     3564132\n",
       "9     3185727\n",
       "10    4178041\n",
       "11    3609487\n",
       "12    3217574\n",
       "13    4524442\n",
       "14    5263770\n",
       "15    6488627\n",
       "16    5318935\n",
       "17    3982450\n",
       "18    3309189\n",
       "19    3791184\n",
       "20    5562656\n",
       "21    4348255\n",
       "22    3207508\n",
       "23    3167377\n",
       "Name: update_id, dtype: int64"
      ]
     },
     "execution_count": 4,
     "metadata": {},
     "output_type": "execute_result"
    }
   ],
   "source": [
    "order_book_data['transaction_datetime'] = pd.to_datetime(order_book_data['transaction_time'], unit='ms')\n",
    "\n",
    "grouped_by_hour = order_book_data.groupby([order_book_data['transaction_datetime'].dt.hour])\n",
    "grouped_by_hour['update_id'].count()"
   ]
  },
  {
   "cell_type": "code",
   "execution_count": 5,
   "id": "ff1a3ba5e9279dc9",
   "metadata": {
    "ExecuteTime": {
     "end_time": "2024-02-21T13:00:45.671254Z",
     "start_time": "2024-02-21T12:58:44.475243Z"
    },
    "collapsed": false,
    "jupyter": {
     "outputs_hidden": false
    }
   },
   "outputs": [
    {
     "data": {
      "text/html": [
       "<div>\n",
       "<style scoped>\n",
       "    .dataframe tbody tr th:only-of-type {\n",
       "        vertical-align: middle;\n",
       "    }\n",
       "\n",
       "    .dataframe tbody tr th {\n",
       "        vertical-align: top;\n",
       "    }\n",
       "\n",
       "    .dataframe thead th {\n",
       "        text-align: right;\n",
       "    }\n",
       "</style>\n",
       "<table border=\"1\" class=\"dataframe\">\n",
       "  <thead>\n",
       "    <tr style=\"text-align: right;\">\n",
       "      <th></th>\n",
       "      <th>update_id</th>\n",
       "      <th>best_bid_price</th>\n",
       "      <th>best_bid_qty</th>\n",
       "      <th>best_ask_price</th>\n",
       "      <th>best_ask_qty</th>\n",
       "      <th>transaction_time</th>\n",
       "      <th>event_time</th>\n",
       "      <th>date</th>\n",
       "      <th>transaction_datetime</th>\n",
       "    </tr>\n",
       "  </thead>\n",
       "  <tbody>\n",
       "    <tr>\n",
       "      <th>0</th>\n",
       "      <td>3932256034651</td>\n",
       "      <td>42570.3</td>\n",
       "      <td>0.821</td>\n",
       "      <td>42570.4</td>\n",
       "      <td>7.207</td>\n",
       "      <td>1707091200006</td>\n",
       "      <td>1707091200012</td>\n",
       "      <td>2024-02-05</td>\n",
       "      <td>2024-02-05 00:00:00.006</td>\n",
       "    </tr>\n",
       "    <tr>\n",
       "      <th>2</th>\n",
       "      <td>3932256034756</td>\n",
       "      <td>42570.3</td>\n",
       "      <td>0.821</td>\n",
       "      <td>42570.4</td>\n",
       "      <td>9.604</td>\n",
       "      <td>1707091200008</td>\n",
       "      <td>1707091200014</td>\n",
       "      <td>2024-02-05</td>\n",
       "      <td>2024-02-05 00:00:00.008</td>\n",
       "    </tr>\n",
       "    <tr>\n",
       "      <th>4</th>\n",
       "      <td>3932256034998</td>\n",
       "      <td>42570.3</td>\n",
       "      <td>0.821</td>\n",
       "      <td>42570.4</td>\n",
       "      <td>7.207</td>\n",
       "      <td>1707091200010</td>\n",
       "      <td>1707091200017</td>\n",
       "      <td>2024-02-05</td>\n",
       "      <td>2024-02-05 00:00:00.010</td>\n",
       "    </tr>\n",
       "    <tr>\n",
       "      <th>6</th>\n",
       "      <td>3932256035546</td>\n",
       "      <td>42570.3</td>\n",
       "      <td>0.821</td>\n",
       "      <td>42570.4</td>\n",
       "      <td>7.395</td>\n",
       "      <td>1707091200014</td>\n",
       "      <td>1707091200020</td>\n",
       "      <td>2024-02-05</td>\n",
       "      <td>2024-02-05 00:00:00.014</td>\n",
       "    </tr>\n",
       "    <tr>\n",
       "      <th>8</th>\n",
       "      <td>3932256035938</td>\n",
       "      <td>42570.3</td>\n",
       "      <td>0.821</td>\n",
       "      <td>42570.4</td>\n",
       "      <td>5.844</td>\n",
       "      <td>1707091200017</td>\n",
       "      <td>1707091200023</td>\n",
       "      <td>2024-02-05</td>\n",
       "      <td>2024-02-05 00:00:00.017</td>\n",
       "    </tr>\n",
       "    <tr>\n",
       "      <th>...</th>\n",
       "      <td>...</td>\n",
       "      <td>...</td>\n",
       "      <td>...</td>\n",
       "      <td>...</td>\n",
       "      <td>...</td>\n",
       "      <td>...</td>\n",
       "      <td>...</td>\n",
       "      <td>...</td>\n",
       "      <td>...</td>\n",
       "    </tr>\n",
       "    <tr>\n",
       "      <th>27997353</th>\n",
       "      <td>3958314657006</td>\n",
       "      <td>47169.6</td>\n",
       "      <td>15.557</td>\n",
       "      <td>47169.7</td>\n",
       "      <td>1.153</td>\n",
       "      <td>1707587424021</td>\n",
       "      <td>1707587424026</td>\n",
       "      <td>2024-02-10</td>\n",
       "      <td>2024-02-10 17:50:24.021</td>\n",
       "    </tr>\n",
       "    <tr>\n",
       "      <th>27997354</th>\n",
       "      <td>3958314657012</td>\n",
       "      <td>47169.6</td>\n",
       "      <td>15.557</td>\n",
       "      <td>47169.7</td>\n",
       "      <td>1.143</td>\n",
       "      <td>1707587424021</td>\n",
       "      <td>1707587424026</td>\n",
       "      <td>2024-02-10</td>\n",
       "      <td>2024-02-10 17:50:24.021</td>\n",
       "    </tr>\n",
       "    <tr>\n",
       "      <th>27997355</th>\n",
       "      <td>3958314657020</td>\n",
       "      <td>47169.6</td>\n",
       "      <td>15.557</td>\n",
       "      <td>47169.7</td>\n",
       "      <td>1.133</td>\n",
       "      <td>1707587424021</td>\n",
       "      <td>1707587424026</td>\n",
       "      <td>2024-02-10</td>\n",
       "      <td>2024-02-10 17:50:24.021</td>\n",
       "    </tr>\n",
       "    <tr>\n",
       "      <th>27997356</th>\n",
       "      <td>3958314657022</td>\n",
       "      <td>47169.6</td>\n",
       "      <td>15.557</td>\n",
       "      <td>47169.7</td>\n",
       "      <td>1.123</td>\n",
       "      <td>1707587424021</td>\n",
       "      <td>1707587424026</td>\n",
       "      <td>2024-02-10</td>\n",
       "      <td>2024-02-10 17:50:24.021</td>\n",
       "    </tr>\n",
       "    <tr>\n",
       "      <th>27997357</th>\n",
       "      <td>3958314657024</td>\n",
       "      <td>47169.6</td>\n",
       "      <td>15.557</td>\n",
       "      <td>47169.7</td>\n",
       "      <td>1.113</td>\n",
       "      <td>1707587424021</td>\n",
       "      <td>1707587424026</td>\n",
       "      <td>2024-02-10</td>\n",
       "      <td>2024-02-10 17:50:24.021</td>\n",
       "    </tr>\n",
       "  </tbody>\n",
       "</table>\n",
       "<p>78939670 rows × 9 columns</p>\n",
       "</div>"
      ],
      "text/plain": [
       "              update_id  best_bid_price  best_bid_qty  best_ask_price  \\\n",
       "0         3932256034651         42570.3         0.821         42570.4   \n",
       "2         3932256034756         42570.3         0.821         42570.4   \n",
       "4         3932256034998         42570.3         0.821         42570.4   \n",
       "6         3932256035546         42570.3         0.821         42570.4   \n",
       "8         3932256035938         42570.3         0.821         42570.4   \n",
       "...                 ...             ...           ...             ...   \n",
       "27997353  3958314657006         47169.6        15.557         47169.7   \n",
       "27997354  3958314657012         47169.6        15.557         47169.7   \n",
       "27997355  3958314657020         47169.6        15.557         47169.7   \n",
       "27997356  3958314657022         47169.6        15.557         47169.7   \n",
       "27997357  3958314657024         47169.6        15.557         47169.7   \n",
       "\n",
       "          best_ask_qty  transaction_time     event_time        date  \\\n",
       "0                7.207     1707091200006  1707091200012  2024-02-05   \n",
       "2                9.604     1707091200008  1707091200014  2024-02-05   \n",
       "4                7.207     1707091200010  1707091200017  2024-02-05   \n",
       "6                7.395     1707091200014  1707091200020  2024-02-05   \n",
       "8                5.844     1707091200017  1707091200023  2024-02-05   \n",
       "...                ...               ...            ...         ...   \n",
       "27997353         1.153     1707587424021  1707587424026  2024-02-10   \n",
       "27997354         1.143     1707587424021  1707587424026  2024-02-10   \n",
       "27997355         1.133     1707587424021  1707587424026  2024-02-10   \n",
       "27997356         1.123     1707587424021  1707587424026  2024-02-10   \n",
       "27997357         1.113     1707587424021  1707587424026  2024-02-10   \n",
       "\n",
       "            transaction_datetime  \n",
       "0        2024-02-05 00:00:00.006  \n",
       "2        2024-02-05 00:00:00.008  \n",
       "4        2024-02-05 00:00:00.010  \n",
       "6        2024-02-05 00:00:00.014  \n",
       "8        2024-02-05 00:00:00.017  \n",
       "...                          ...  \n",
       "27997353 2024-02-10 17:50:24.021  \n",
       "27997354 2024-02-10 17:50:24.021  \n",
       "27997355 2024-02-10 17:50:24.021  \n",
       "27997356 2024-02-10 17:50:24.021  \n",
       "27997357 2024-02-10 17:50:24.021  \n",
       "\n",
       "[78939670 rows x 9 columns]"
      ]
     },
     "execution_count": 5,
     "metadata": {},
     "output_type": "execute_result"
    }
   ],
   "source": [
    "order_book_data[order_book_data['best_ask_qty'] > 0.5]"
   ]
  },
  {
   "cell_type": "code",
   "execution_count": null,
   "id": "32824d9ed65dc169",
   "metadata": {
    "collapsed": false,
    "jupyter": {
     "outputs_hidden": false
    }
   },
   "outputs": [],
   "source": [
    "              update_id  best_bid_price  best_bid_qty  best_ask_price  \\\n",
    "0         3932256034651         42570.3         0.821         42570.4   \n",
    "2         3932256034756         42570.3         0.821         42570.4   \n",
    "4         3932256034998         42570.3         0.821         42570.4   \n",
    "6         3932256035546         42570.3         0.821         42570.4   \n",
    "8         3932256035938         42570.3         0.821         42570.4   \n",
    "...                 ...             ...           ...             ...   \n",
    "27997353  3958314657006         47169.6        15.557         47169.7   \n",
    "27997354  3958314657012         47169.6        15.557         47169.7   \n",
    "27997355  3958314657020         47169.6        15.557         47169.7   \n",
    "27997356  3958314657022         47169.6        15.557         47169.7   \n",
    "27997357  3958314657024         47169.6        15.557         47169.7   \n",
    "\n",
    "          best_ask_qty  transaction_time     event_time        date  \\\n",
    "0                7.207     1707091200006  1707091200012  2024-02-05   \n",
    "2                9.604     1707091200008  1707091200014  2024-02-05   \n",
    "4                7.207     1707091200010  1707091200017  2024-02-05   \n",
    "6                7.395     1707091200014  1707091200020  2024-02-05   \n",
    "8                5.844     1707091200017  1707091200023  2024-02-05   \n",
    "...                ...               ...            ...         ...   \n",
    "27997353         1.153     1707587424021  1707587424026  2024-02-10   \n",
    "27997354         1.143     1707587424021  1707587424026  2024-02-10   \n",
    "27997355         1.133     1707587424021  1707587424026  2024-02-10   \n",
    "27997356         1.123     1707587424021  1707587424026  2024-02-10   \n",
    "27997357         1.113     1707587424021  1707587424026  2024-02-10   \n",
    "\n",
    "            transaction_datetime  \n",
    "0        2024-02-05 00:00:00.006  \n",
    "2        2024-02-05 00:00:00.008  \n",
    "4        2024-02-05 00:00:00.010  \n",
    "6        2024-02-05 00:00:00.014  \n",
    "8        2024-02-05 00:00:00.017  \n",
    "...                          ...  \n",
    "27997353 2024-02-10 17:50:24.021  \n",
    "27997354 2024-02-10 17:50:24.021  \n",
    "27997355 2024-02-10 17:50:24.021  \n",
    "27997356 2024-02-10 17:50:24.021  \n",
    "27997357 2024-02-10 17:50:24.021  \n",
    "\n",
    "[78939670 rows x 9 columns]"
   ]
  },
  {
   "cell_type": "code",
   "execution_count": null,
   "id": "b71b82be1ed003db",
   "metadata": {
    "collapsed": false,
    "jupyter": {
     "outputs_hidden": false
    }
   },
   "outputs": [],
   "source": []
  },
  {
   "cell_type": "code",
   "execution_count": null,
   "id": "35f54752e954671b",
   "metadata": {
    "collapsed": false,
    "jupyter": {
     "outputs_hidden": false
    }
   },
   "outputs": [],
   "source": []
  },
  {
   "cell_type": "markdown",
   "id": "45341b2907109919",
   "metadata": {
    "collapsed": false,
    "jupyter": {
     "outputs_hidden": false
    }
   },
   "source": [
    "What is the timezone of these data?"
   ]
  },
  {
   "cell_type": "code",
   "execution_count": 5,
   "id": "373fd3029d65a287",
   "metadata": {
    "ExecuteTime": {
     "end_time": "2024-02-21T11:49:05.330965Z",
     "start_time": "2024-02-21T11:48:48.500688Z"
    },
    "collapsed": false,
    "jupyter": {
     "outputs_hidden": false
    }
   },
   "outputs": [
    {
     "data": {
      "text/plain": [
       "[<matplotlib.lines.Line2D at 0x129856b80>]"
      ]
     },
     "execution_count": 5,
     "metadata": {},
     "output_type": "execute_result"
    },
    {
     "data": {
      "image/png": "[encoded data removed]",
      "text/plain": [
       "<Figure size 432x288 with 1 Axes>"
      ]
     },
     "metadata": {
      "needs_background": "light"
     },
     "output_type": "display_data"
    }
   ],
   "source": [
    "plt.plot(order_book_data['transaction_time'], order_book_data['best_bid_price'])"
   ]
  },
  {
   "cell_type": "markdown",
   "id": "b0327a0f38d2d62f",
   "metadata": {
    "collapsed": false,
    "jupyter": {
     "outputs_hidden": false
    }
   },
   "source": []
  },
  {
   "cell_type": "code",
   "execution_count": 6,
   "id": "4200043a720e083c",
   "metadata": {
    "ExecuteTime": {
     "end_time": "2024-02-21T13:10:32.606364Z",
     "start_time": "2024-02-21T13:09:21.863712Z"
    },
    "collapsed": false,
    "jupyter": {
     "outputs_hidden": false
    }
   },
   "outputs": [],
   "source": [
    "order_book_data_5 = order_book_data[order_book_data['date'] == '2024-02-05']"
   ]
  },
  {
   "cell_type": "code",
   "execution_count": null,
   "id": "ad1a31eca33cd00e",
   "metadata": {
    "collapsed": false,
    "jupyter": {
     "outputs_hidden": false
    }
   },
   "outputs": [],
   "source": [
    "order_book_data_5['best_ask_price']"
   ]
  },
  {
   "cell_type": "code",
   "execution_count": null,
   "id": "512a011a724731c7",
   "metadata": {
    "collapsed": false,
    "jupyter": {
     "outputs_hidden": false
    }
   },
   "outputs": [],
   "source": []
  },
  {
   "cell_type": "code",
   "execution_count": null,
   "id": "f275e32787ec3911",
   "metadata": {
    "collapsed": false,
    "jupyter": {
     "outputs_hidden": false
    }
   },
   "outputs": [],
   "source": []
  },
  {
   "cell_type": "code",
   "execution_count": 7,
   "id": "fb3e7cfc2c94ee0b",
   "metadata": {
    "ExecuteTime": {
     "end_time": "2024-02-21T11:49:44.616726Z",
     "start_time": "2024-02-21T11:49:41.201446Z"
    },
    "collapsed": false,
    "jupyter": {
     "outputs_hidden": false
    }
   },
   "outputs": [
    {
     "data": {
      "text/plain": [
       "[<matplotlib.lines.Line2D at 0x129a66df0>]"
      ]
     },
     "execution_count": 7,
     "metadata": {},
     "output_type": "execute_result"
    },
    {
     "data": {
      "image/png": "[encoded data removed]",
      "text/plain": [
       "<Figure size 432x288 with 1 Axes>"
      ]
     },
     "metadata": {
      "needs_background": "light"
     },
     "output_type": "display_data"
    }
   ],
   "source": [
    "plt.plot(order_book_data_5['transaction_time'], order_book_data_5['event_time'])"
   ]
  },
  {
   "cell_type": "code",
   "execution_count": 8,
   "id": "4247f360ba3eeb85",
   "metadata": {
    "ExecuteTime": {
     "end_time": "2024-02-21T11:49:45.360136Z",
     "start_time": "2024-02-21T11:49:44.609402Z"
    },
    "collapsed": false,
    "jupyter": {
     "outputs_hidden": false
    }
   },
   "outputs": [
    {
     "name": "stdout",
     "output_type": "stream",
     "text": [
      "1\n",
      "1452\n",
      "6.232659059450528\n"
     ]
    }
   ],
   "source": [
    "diff = order_book_data_5['event_time'] - order_book_data_5['transaction_time']\n",
    "print(diff.min())\n",
    "print(diff.max())\n",
    "print(diff.mean())"
   ]
  },
  {
   "cell_type": "code",
   "execution_count": 9,
   "id": "9b7f0959ee8484e2",
   "metadata": {
    "ExecuteTime": {
     "end_time": "2024-02-21T11:49:54.690378Z",
     "start_time": "2024-02-21T11:49:45.335952Z"
    },
    "collapsed": false,
    "jupyter": {
     "outputs_hidden": false
    }
   },
   "outputs": [
    {
     "data": {
      "text/plain": [
       "[<matplotlib.lines.Line2D at 0x129ae67f0>]"
      ]
     },
     "execution_count": 9,
     "metadata": {},
     "output_type": "execute_result"
    },
    {
     "data": {
      "image/png": "[encoded data removed]",
      "text/plain": [
       "<Figure size 432x288 with 1 Axes>"
      ]
     },
     "metadata": {
      "needs_background": "light"
     },
     "output_type": "display_data"
    }
   ],
   "source": [
    "bid_price_mean = order_book_data_5.groupby('transaction_time').mean().reset_index()\n",
    "plt.plot(bid_price_mean['transaction_time'], bid_price_mean['best_bid_price'])"
   ]
  },
  {
   "cell_type": "code",
   "execution_count": 10,
   "id": "a84543cb7f09f9fb",
   "metadata": {
    "ExecuteTime": {
     "end_time": "2024-02-21T11:50:04.027603Z",
     "start_time": "2024-02-21T11:49:54.680145Z"
    },
    "collapsed": false,
    "jupyter": {
     "outputs_hidden": false
    }
   },
   "outputs": [
    {
     "data": {
      "text/plain": [
       "[<matplotlib.lines.Line2D at 0x129b63a30>]"
      ]
     },
     "execution_count": 10,
     "metadata": {},
     "output_type": "execute_result"
    },
    {
     "data": {
      "image/png": "[encoded data removed]",
      "text/plain": [
       "<Figure size 432x288 with 1 Axes>"
      ]
     },
     "metadata": {
      "needs_background": "light"
     },
     "output_type": "display_data"
    }
   ],
   "source": [
    "bid_price_mean = order_book_data_5.groupby('transaction_time').mean().reset_index()\n",
    "plt.plot(bid_price_mean['transaction_time'], bid_price_mean['best_ask_price'])"
   ]
  },
  {
   "cell_type": "code",
   "execution_count": 11,
   "id": "497684b18f0d6733",
   "metadata": {
    "ExecuteTime": {
     "end_time": "2024-02-21T11:50:18.117052Z",
     "start_time": "2024-02-21T11:50:03.865207Z"
    },
    "collapsed": false,
    "jupyter": {
     "outputs_hidden": false
    }
   },
   "outputs": [
    {
     "name": "stderr",
     "output_type": "stream",
     "text": [
      "/var/folders/yq/707ysz_j3jlggmtk5clx13rm0000gn/T/ipykernel_88840/540292510.py:1: SettingWithCopyWarning: \n",
      "A value is trying to be set on a copy of a slice from a DataFrame.\n",
      "Try using .loc[row_indexer,col_indexer] = value instead\n",
      "\n",
      "See the caveats in the documentation: https://pandas.pydata.org/pandas-docs/stable/user_guide/indexing.html#returning-a-view-versus-a-copy\n",
      "  order_book_data_5['best_bid_total'] = order_book_data_5['best_bid_price'] * order_book_data_5['best_bid_qty']\n"
     ]
    },
    {
     "data": {
      "text/plain": [
       "[<matplotlib.lines.Line2D at 0x129bdfe20>]"
      ]
     },
     "execution_count": 11,
     "metadata": {},
     "output_type": "execute_result"
    },
    {
     "data": {
      "image/png": "[encoded data removed]",
      "text/plain": [
       "<Figure size 432x288 with 1 Axes>"
      ]
     },
     "metadata": {
      "needs_background": "light"
     },
     "output_type": "display_data"
    }
   ],
   "source": [
    "order_book_data_5['best_bid_total'] = order_book_data_5['best_bid_price'] * order_book_data_5['best_bid_qty']\n",
    "\n",
    "bid_total_mean = order_book_data_5.groupby('transaction_time').mean().reset_index()\n",
    "plt.plot(bid_total_mean['transaction_time'], bid_total_mean['best_bid_total'])"
   ]
  },
  {
   "cell_type": "code",
   "execution_count": 12,
   "id": "501bfea9986d1e12",
   "metadata": {
    "ExecuteTime": {
     "end_time": "2024-02-21T11:50:32.693470Z",
     "start_time": "2024-02-21T11:50:18.117191Z"
    },
    "collapsed": false,
    "jupyter": {
     "outputs_hidden": false
    }
   },
   "outputs": [
    {
     "name": "stderr",
     "output_type": "stream",
     "text": [
      "/var/folders/yq/707ysz_j3jlggmtk5clx13rm0000gn/T/ipykernel_88840/2092412121.py:1: SettingWithCopyWarning: \n",
      "A value is trying to be set on a copy of a slice from a DataFrame.\n",
      "Try using .loc[row_indexer,col_indexer] = value instead\n",
      "\n",
      "See the caveats in the documentation: https://pandas.pydata.org/pandas-docs/stable/user_guide/indexing.html#returning-a-view-versus-a-copy\n",
      "  order_book_data_5['best_ask_total'] = order_book_data_5['best_ask_price'] * order_book_data_5['best_ask_qty']\n"
     ]
    },
    {
     "data": {
      "text/plain": [
       "[<matplotlib.lines.Line2D at 0x129c686a0>]"
      ]
     },
     "execution_count": 12,
     "metadata": {},
     "output_type": "execute_result"
    },
    {
     "data": {
      "image/png": "[encoded data removed]",
      "text/plain": [
       "<Figure size 432x288 with 1 Axes>"
      ]
     },
     "metadata": {
      "needs_background": "light"
     },
     "output_type": "display_data"
    }
   ],
   "source": [
    "order_book_data_5['best_ask_total'] = order_book_data_5['best_ask_price'] * order_book_data_5['best_ask_qty']\n",
    "\n",
    "bid_total_mean = order_book_data_5.groupby('transaction_time').mean().reset_index()\n",
    "plt.plot(bid_total_mean['transaction_time'], bid_total_mean['best_ask_total'])"
   ]
  },
  {
   "cell_type": "code",
   "execution_count": 13,
   "id": "100e3e91d6920bdf",
   "metadata": {
    "ExecuteTime": {
     "end_time": "2024-02-21T11:50:35.126547Z",
     "start_time": "2024-02-21T11:50:32.704209Z"
    },
    "collapsed": false,
    "jupyter": {
     "outputs_hidden": false
    }
   },
   "outputs": [
    {
     "data": {
      "text/plain": [
       "<Axes: >"
      ]
     },
     "execution_count": 13,
     "metadata": {},
     "output_type": "execute_result"
    },
    {
     "data": {
      "image/png": "[encoded data removed]",
      "text/plain": [
       "<Figure size 432x288 with 1 Axes>"
      ]
     },
     "metadata": {
      "needs_background": "light"
     },
     "output_type": "display_data"
    }
   ],
   "source": [
    "order_book_data_5['best_bid_price'].hist(bins=100)"
   ]
  },
  {
   "cell_type": "code",
   "execution_count": 14,
   "id": "5211c3506dc7e1be",
   "metadata": {
    "ExecuteTime": {
     "end_time": "2024-02-21T11:50:36.333490Z",
     "start_time": "2024-02-21T11:50:35.104051Z"
    },
    "collapsed": false,
    "jupyter": {
     "outputs_hidden": false
    }
   },
   "outputs": [
    {
     "data": {
      "text/plain": [
       "<Axes: >"
      ]
     },
     "execution_count": 14,
     "metadata": {},
     "output_type": "execute_result"
    },
    {
     "data": {
      "image/png": "[encoded data removed]",
      "text/plain": [
       "<Figure size 432x288 with 1 Axes>"
      ]
     },
     "metadata": {
      "needs_background": "light"
     },
     "output_type": "display_data"
    }
   ],
   "source": [
    "order_book_data_5['best_bid_total'].hist(bins=100)"
   ]
  },
  {
   "cell_type": "code",
   "execution_count": 15,
   "id": "f34ceff45759266b",
   "metadata": {
    "ExecuteTime": {
     "end_time": "2024-02-21T11:50:38.099912Z",
     "start_time": "2024-02-21T11:50:36.334721Z"
    },
    "collapsed": false,
    "jupyter": {
     "outputs_hidden": false
    }
   },
   "outputs": [
    {
     "data": {
      "text/plain": [
       "<Axes: >"
      ]
     },
     "execution_count": 15,
     "metadata": {},
     "output_type": "execute_result"
    },
    {
     "data": {
      "image/png": "[encoded data removed]",
      "text/plain": [
       "<Figure size 432x288 with 1 Axes>"
      ]
     },
     "metadata": {
      "needs_background": "light"
     },
     "output_type": "display_data"
    }
   ],
   "source": [
    "order_book_data_5['best_ask_price'].hist(bins=100)"
   ]
  },
  {
   "cell_type": "code",
   "execution_count": 16,
   "id": "aa9022bbc579fe8f",
   "metadata": {
    "ExecuteTime": {
     "end_time": "2024-02-21T11:50:39.626277Z",
     "start_time": "2024-02-21T11:50:38.109575Z"
    },
    "collapsed": false,
    "jupyter": {
     "outputs_hidden": false
    }
   },
   "outputs": [
    {
     "data": {
      "text/plain": [
       "<Axes: >"
      ]
     },
     "execution_count": 16,
     "metadata": {},
     "output_type": "execute_result"
    },
    {
     "data": {
      "image/png": "[encoded data removed]",
      "text/plain": [
       "<Figure size 432x288 with 1 Axes>"
      ]
     },
     "metadata": {
      "needs_background": "light"
     },
     "output_type": "display_data"
    }
   ],
   "source": [
    "order_book_data_5['best_ask_total'].hist(bins=100)"
   ]
  },
  {
   "cell_type": "code",
   "execution_count": 17,
   "id": "df624ce49e07206e",
   "metadata": {
    "ExecuteTime": {
     "end_time": "2024-02-21T11:50:41.043546Z",
     "start_time": "2024-02-21T11:50:39.632984Z"
    },
    "collapsed": false,
    "jupyter": {
     "outputs_hidden": false
    }
   },
   "outputs": [
    {
     "data": {
      "text/plain": [
       "{'whiskers': [<matplotlib.lines.Line2D at 0x1493b2280>,\n",
       "  <matplotlib.lines.Line2D at 0x1493b2520>],\n",
       " 'caps': [<matplotlib.lines.Line2D at 0x1493b27c0>,\n",
       "  <matplotlib.lines.Line2D at 0x1493b2a60>],\n",
       " 'boxes': [<matplotlib.lines.Line2D at 0x14939cfa0>],\n",
       " 'medians': [<matplotlib.lines.Line2D at 0x1493b2d00>],\n",
       " 'fliers': [<matplotlib.lines.Line2D at 0x1493b2fa0>],\n",
       " 'means': []}"
      ]
     },
     "execution_count": 17,
     "metadata": {},
     "output_type": "execute_result"
    },
    {
     "data": {
      "image/png": "[encoded data removed]",
      "text/plain": [
       "<Figure size 432x288 with 1 Axes>"
      ]
     },
     "metadata": {
      "needs_background": "light"
     },
     "output_type": "display_data"
    }
   ],
   "source": [
    "plt.boxplot(order_book_data_5['best_ask_total'])"
   ]
  },
  {
   "cell_type": "code",
   "execution_count": 18,
   "id": "dbac9624c21cbfa",
   "metadata": {
    "ExecuteTime": {
     "end_time": "2024-02-21T11:50:42.376286Z",
     "start_time": "2024-02-21T11:50:41.048243Z"
    },
    "collapsed": false,
    "jupyter": {
     "outputs_hidden": false
    }
   },
   "outputs": [
    {
     "data": {
      "text/plain": [
       "{'whiskers': [<matplotlib.lines.Line2D at 0x14941fe80>,\n",
       "  <matplotlib.lines.Line2D at 0x149431160>],\n",
       " 'caps': [<matplotlib.lines.Line2D at 0x149431400>,\n",
       "  <matplotlib.lines.Line2D at 0x149431580>],\n",
       " 'boxes': [<matplotlib.lines.Line2D at 0x14941fbe0>],\n",
       " 'medians': [<matplotlib.lines.Line2D at 0x149431820>],\n",
       " 'fliers': [<matplotlib.lines.Line2D at 0x149431ac0>],\n",
       " 'means': []}"
      ]
     },
     "execution_count": 18,
     "metadata": {},
     "output_type": "execute_result"
    },
    {
     "data": {
      "image/png": "[encoded data removed]",
      "text/plain": [
       "<Figure size 432x288 with 1 Axes>"
      ]
     },
     "metadata": {
      "needs_background": "light"
     },
     "output_type": "display_data"
    }
   ],
   "source": [
    "plt.boxplot(order_book_data_5['best_bid_total'])"
   ]
  },
  {
   "cell_type": "code",
   "execution_count": 19,
   "id": "aa3cae1975609c51",
   "metadata": {
    "ExecuteTime": {
     "end_time": "2024-02-21T11:50:52.286452Z",
     "start_time": "2024-02-21T11:50:42.380561Z"
    },
    "collapsed": false,
    "jupyter": {
     "outputs_hidden": false
    }
   },
   "outputs": [
    {
     "name": "stdout",
     "output_type": "stream",
     "text": [
      "update_id               698381\n",
      "best_bid_price          698381\n",
      "best_bid_qty            698381\n",
      "best_ask_price          698381\n",
      "best_ask_qty            698381\n",
      "transaction_time        698381\n",
      "event_time              698381\n",
      "date                    698381\n",
      "transaction_datetime    698381\n",
      "best_bid_total          698381\n",
      "best_ask_total          698381\n",
      "dtype: int64\n"
     ]
    },
    {
     "data": {
      "text/plain": [
       "update_id               0.022971\n",
       "best_bid_price          0.022971\n",
       "best_bid_qty            0.022971\n",
       "best_ask_price          0.022971\n",
       "best_ask_qty            0.022971\n",
       "transaction_time        0.022971\n",
       "event_time              0.022971\n",
       "date                    0.022971\n",
       "transaction_datetime    0.022971\n",
       "best_bid_total          0.022971\n",
       "best_ask_total          0.022971\n",
       "dtype: float64"
      ]
     },
     "execution_count": 19,
     "metadata": {},
     "output_type": "execute_result"
    }
   ],
   "source": [
    "Q1 = order_book_data_5['best_bid_total'].quantile(0.25)\n",
    "Q3 = order_book_data_5['best_bid_total'].quantile(0.75)\n",
    "IQR = Q3 - Q1\n",
    "\n",
    "# Define the upper and lower bounds to identify outliers\n",
    "lower_bound = Q1 - 1.5 * IQR\n",
    "upper_bound = Q3 + 1.5 * IQR\n",
    "\n",
    "# Filter out outliers and create a new DataFrame without them\n",
    "bid_total_outliers = order_book_data_5[(order_book_data_5['best_bid_total'] < lower_bound) | (order_book_data_5['best_bid_total'] > upper_bound)]\n",
    "\n",
    "print(bid_total_outliers.count())\n",
    "bid_total_outliers.count() / order_book_data_5.count()"
   ]
  },
  {
   "cell_type": "code",
   "execution_count": 20,
   "id": "16fe2b363949a18a",
   "metadata": {
    "ExecuteTime": {
     "end_time": "2024-02-21T11:50:59.715741Z",
     "start_time": "2024-02-21T11:50:52.277913Z"
    },
    "collapsed": false,
    "jupyter": {
     "outputs_hidden": false
    }
   },
   "outputs": [
    {
     "name": "stdout",
     "output_type": "stream",
     "text": [
      "update_id               841108\n",
      "best_bid_price          841108\n",
      "best_bid_qty            841108\n",
      "best_ask_price          841108\n",
      "best_ask_qty            841108\n",
      "transaction_time        841108\n",
      "event_time              841108\n",
      "date                    841108\n",
      "transaction_datetime    841108\n",
      "best_bid_total          841108\n",
      "best_ask_total          841108\n",
      "dtype: int64\n"
     ]
    },
    {
     "data": {
      "text/plain": [
       "update_id               0.027666\n",
       "best_bid_price          0.027666\n",
       "best_bid_qty            0.027666\n",
       "best_ask_price          0.027666\n",
       "best_ask_qty            0.027666\n",
       "transaction_time        0.027666\n",
       "event_time              0.027666\n",
       "date                    0.027666\n",
       "transaction_datetime    0.027666\n",
       "best_bid_total          0.027666\n",
       "best_ask_total          0.027666\n",
       "dtype: float64"
      ]
     },
     "execution_count": 20,
     "metadata": {},
     "output_type": "execute_result"
    },
    {
     "data": {
      "image/png": "[encoded data removed]",
      "text/plain": [
       "<Figure size 432x288 with 1 Axes>"
      ]
     },
     "metadata": {
      "needs_background": "light"
     },
     "output_type": "display_data"
    }
   ],
   "source": [
    "plt.boxplot(order_book_data_5['best_ask_total'])\n",
    "Q1 = order_book_data_5['best_ask_total'].quantile(0.25)\n",
    "Q3 = order_book_data_5['best_ask_total'].quantile(0.75)\n",
    "IQR = Q3 - Q1\n",
    "\n",
    "# Define the upper and lower bounds to identify outliers\n",
    "lower_bound = Q1 - 1.5 * IQR\n",
    "upper_bound = Q3 + 1.5 * IQR\n",
    "\n",
    "# Filter out outliers and create a new DataFrame without them\n",
    "ask_total_outliers = order_book_data_5[\n",
    "    (order_book_data_5['best_ask_total'] < lower_bound) | (order_book_data_5['best_ask_total'] > upper_bound)]\n",
    "\n",
    "print(ask_total_outliers.count())\n",
    "ask_total_outliers.count() / order_book_data_5.count()"
   ]
  },
  {
   "cell_type": "code",
   "execution_count": 21,
   "id": "9fe422d7e46d49d2",
   "metadata": {
    "ExecuteTime": {
     "end_time": "2024-02-21T11:51:22.117611Z",
     "start_time": "2024-02-21T11:51:00.695517Z"
    },
    "collapsed": false,
    "jupyter": {
     "outputs_hidden": false
    }
   },
   "outputs": [
    {
     "data": {
      "text/plain": [
       "update_id               0.309303\n",
       "best_bid_price          0.309303\n",
       "best_bid_qty            0.309303\n",
       "best_ask_price          0.309303\n",
       "best_ask_qty            0.309303\n",
       "transaction_time        0.309303\n",
       "event_time              0.309303\n",
       "date                    0.309303\n",
       "transaction_datetime    0.309303\n",
       "best_bid_total          0.309303\n",
       "best_ask_total          0.309303\n",
       "dtype: float64"
      ]
     },
     "execution_count": 21,
     "metadata": {},
     "output_type": "execute_result"
    }
   ],
   "source": [
    "duplicated_order = order_book_data_5[order_book_data_5[['best_bid_qty', 'best_bid_price', 'best_ask_qty', 'best_ask_price']].duplicated(keep=False)]\n",
    "duplicated_order.count()/order_book_data_5.count()"
   ]
  },
  {
   "cell_type": "markdown",
   "id": "1ff632127ed7564",
   "metadata": {
    "collapsed": false,
    "jupyter": {
     "outputs_hidden": false
    }
   },
   "source": [
    "Does this duplication mean anything?"
   ]
  },
  {
   "cell_type": "code",
   "execution_count": 22,
   "id": "eef4ed9f5ac3e838",
   "metadata": {
    "ExecuteTime": {
     "end_time": "2024-02-21T11:52:46.273258Z",
     "start_time": "2024-02-21T11:51:22.106029Z"
    },
    "collapsed": false,
    "jupyter": {
     "outputs_hidden": false
    }
   },
   "outputs": [
    {
     "data": {
      "text/plain": [
       "[<matplotlib.lines.Line2D at 0x149078160>]"
      ]
     },
     "execution_count": 22,
     "metadata": {},
     "output_type": "execute_result"
    },
    {
     "data": {
      "image/png": "[encoded data removed]",
      "text/plain": [
       "<Figure size 432x288 with 1 Axes>"
      ]
     },
     "metadata": {
      "needs_background": "light"
     },
     "output_type": "display_data"
    }
   ],
   "source": [
    "moving_average = []\n",
    "for i in range(duplicated_order['transaction_time'].min(), duplicated_order['transaction_time'].max(), 300000):\n",
    "    a = duplicated_order[duplicated_order['transaction_time'] > i]\n",
    "    a = a[a['transaction_time'] < i+300000]\n",
    "    b = a[['best_bid_qty', 'best_bid_price', 'best_ask_qty', 'best_ask_price']].duplicated(keep=False)\n",
    "    moving_average.append(b.count())\n",
    "    \n",
    "plt.plot(moving_average)"
   ]
  },
  {
   "cell_type": "code",
   "execution_count": 23,
   "id": "9ff130d0fc77a003",
   "metadata": {
    "ExecuteTime": {
     "end_time": "2024-02-21T11:53:21.396757Z",
     "start_time": "2024-02-21T11:52:45.857398Z"
    },
    "collapsed": false,
    "jupyter": {
     "outputs_hidden": false
    }
   },
   "outputs": [
    {
     "data": {
      "text/html": [
       "<div>\n",
       "<style scoped>\n",
       "    .dataframe tbody tr th:only-of-type {\n",
       "        vertical-align: middle;\n",
       "    }\n",
       "\n",
       "    .dataframe tbody tr th {\n",
       "        vertical-align: top;\n",
       "    }\n",
       "\n",
       "    .dataframe thead th {\n",
       "        text-align: right;\n",
       "    }\n",
       "</style>\n",
       "<table border=\"1\" class=\"dataframe\">\n",
       "  <thead>\n",
       "    <tr style=\"text-align: right;\">\n",
       "      <th></th>\n",
       "      <th>best_bid_qty</th>\n",
       "      <th>best_bid_price</th>\n",
       "      <th>best_ask_qty</th>\n",
       "      <th>best_ask_price</th>\n",
       "      <th>transaction_time</th>\n",
       "      <th>count</th>\n",
       "    </tr>\n",
       "  </thead>\n",
       "  <tbody>\n",
       "    <tr>\n",
       "      <th>0</th>\n",
       "      <td>0.001</td>\n",
       "      <td>42274.3</td>\n",
       "      <td>6.012</td>\n",
       "      <td>42274.4</td>\n",
       "      <td>[1707095705279, 1707095705280]</td>\n",
       "      <td>2</td>\n",
       "    </tr>\n",
       "    <tr>\n",
       "      <th>1</th>\n",
       "      <td>0.001</td>\n",
       "      <td>42274.3</td>\n",
       "      <td>8.392</td>\n",
       "      <td>42274.4</td>\n",
       "      <td>[1707095705283, 1707095705284]</td>\n",
       "      <td>2</td>\n",
       "    </tr>\n",
       "    <tr>\n",
       "      <th>2</th>\n",
       "      <td>0.001</td>\n",
       "      <td>42346.8</td>\n",
       "      <td>17.962</td>\n",
       "      <td>42346.9</td>\n",
       "      <td>[1707094397166, 1707094397168]</td>\n",
       "      <td>2</td>\n",
       "    </tr>\n",
       "    <tr>\n",
       "      <th>3</th>\n",
       "      <td>0.001</td>\n",
       "      <td>42347.8</td>\n",
       "      <td>13.657</td>\n",
       "      <td>42347.9</td>\n",
       "      <td>[1707094515876, 1707094515880]</td>\n",
       "      <td>2</td>\n",
       "    </tr>\n",
       "    <tr>\n",
       "      <th>4</th>\n",
       "      <td>0.001</td>\n",
       "      <td>42347.8</td>\n",
       "      <td>13.942</td>\n",
       "      <td>42347.9</td>\n",
       "      <td>[1707094515830, 1707094515846]</td>\n",
       "      <td>2</td>\n",
       "    </tr>\n",
       "    <tr>\n",
       "      <th>...</th>\n",
       "      <td>...</td>\n",
       "      <td>...</td>\n",
       "      <td>...</td>\n",
       "      <td>...</td>\n",
       "      <td>...</td>\n",
       "      <td>...</td>\n",
       "    </tr>\n",
       "    <tr>\n",
       "      <th>3575241</th>\n",
       "      <td>396.048</td>\n",
       "      <td>42500.0</td>\n",
       "      <td>3.064</td>\n",
       "      <td>42500.1</td>\n",
       "      <td>[1707098835794, 1707098835796]</td>\n",
       "      <td>2</td>\n",
       "    </tr>\n",
       "    <tr>\n",
       "      <th>3575242</th>\n",
       "      <td>396.048</td>\n",
       "      <td>42500.0</td>\n",
       "      <td>4.476</td>\n",
       "      <td>42500.1</td>\n",
       "      <td>[1707098835796, 1707098835796]</td>\n",
       "      <td>2</td>\n",
       "    </tr>\n",
       "    <tr>\n",
       "      <th>3575243</th>\n",
       "      <td>397.165</td>\n",
       "      <td>42500.0</td>\n",
       "      <td>4.205</td>\n",
       "      <td>42500.1</td>\n",
       "      <td>[1707098835764, 1707098835765]</td>\n",
       "      <td>2</td>\n",
       "    </tr>\n",
       "    <tr>\n",
       "      <th>3575244</th>\n",
       "      <td>399.909</td>\n",
       "      <td>42500.0</td>\n",
       "      <td>0.450</td>\n",
       "      <td>42500.1</td>\n",
       "      <td>[1707098836091, 1707098836102]</td>\n",
       "      <td>2</td>\n",
       "    </tr>\n",
       "    <tr>\n",
       "      <th>3575245</th>\n",
       "      <td>399.959</td>\n",
       "      <td>42500.0</td>\n",
       "      <td>0.450</td>\n",
       "      <td>42500.1</td>\n",
       "      <td>[1707098836094, 1707098836101]</td>\n",
       "      <td>2</td>\n",
       "    </tr>\n",
       "  </tbody>\n",
       "</table>\n",
       "<p>3575246 rows × 6 columns</p>\n",
       "</div>"
      ],
      "text/plain": [
       "         best_bid_qty  best_bid_price  best_ask_qty  best_ask_price  \\\n",
       "0               0.001         42274.3         6.012         42274.4   \n",
       "1               0.001         42274.3         8.392         42274.4   \n",
       "2               0.001         42346.8        17.962         42346.9   \n",
       "3               0.001         42347.8        13.657         42347.9   \n",
       "4               0.001         42347.8        13.942         42347.9   \n",
       "...               ...             ...           ...             ...   \n",
       "3575241       396.048         42500.0         3.064         42500.1   \n",
       "3575242       396.048         42500.0         4.476         42500.1   \n",
       "3575243       397.165         42500.0         4.205         42500.1   \n",
       "3575244       399.909         42500.0         0.450         42500.1   \n",
       "3575245       399.959         42500.0         0.450         42500.1   \n",
       "\n",
       "                       transaction_time  count  \n",
       "0        [1707095705279, 1707095705280]      2  \n",
       "1        [1707095705283, 1707095705284]      2  \n",
       "2        [1707094397166, 1707094397168]      2  \n",
       "3        [1707094515876, 1707094515880]      2  \n",
       "4        [1707094515830, 1707094515846]      2  \n",
       "...                                 ...    ...  \n",
       "3575241  [1707098835794, 1707098835796]      2  \n",
       "3575242  [1707098835796, 1707098835796]      2  \n",
       "3575243  [1707098835764, 1707098835765]      2  \n",
       "3575244  [1707098836091, 1707098836102]      2  \n",
       "3575245  [1707098836094, 1707098836101]      2  \n",
       "\n",
       "[3575246 rows x 6 columns]"
      ]
     },
     "execution_count": 23,
     "metadata": {},
     "output_type": "execute_result"
    }
   ],
   "source": [
    "grouped_duplicated = duplicated_order.groupby(['best_bid_qty', 'best_bid_price', 'best_ask_qty', 'best_ask_price'])['transaction_time'].agg(list).reset_index()\n",
    "grouped_duplicated['count'] = grouped_duplicated['transaction_time'].apply(len)\n",
    "grouped_duplicated"
   ]
  },
  {
   "cell_type": "code",
   "execution_count": 24,
   "id": "7fc42061d10f7dac",
   "metadata": {
    "ExecuteTime": {
     "end_time": "2024-02-21T11:53:21.696167Z",
     "start_time": "2024-02-21T11:53:21.333178Z"
    },
    "collapsed": false,
    "jupyter": {
     "outputs_hidden": false
    }
   },
   "outputs": [
    {
     "data": {
      "text/html": [
       "<div>\n",
       "<style scoped>\n",
       "    .dataframe tbody tr th:only-of-type {\n",
       "        vertical-align: middle;\n",
       "    }\n",
       "\n",
       "    .dataframe tbody tr th {\n",
       "        vertical-align: top;\n",
       "    }\n",
       "\n",
       "    .dataframe thead th {\n",
       "        text-align: right;\n",
       "    }\n",
       "</style>\n",
       "<table border=\"1\" class=\"dataframe\">\n",
       "  <thead>\n",
       "    <tr style=\"text-align: right;\">\n",
       "      <th></th>\n",
       "      <th>best_bid_qty</th>\n",
       "      <th>best_bid_price</th>\n",
       "      <th>best_ask_qty</th>\n",
       "      <th>best_ask_price</th>\n",
       "      <th>transaction_time</th>\n",
       "      <th>count</th>\n",
       "    </tr>\n",
       "  </thead>\n",
       "  <tbody>\n",
       "    <tr>\n",
       "      <th>2783932</th>\n",
       "      <td>9.000</td>\n",
       "      <td>42887.0</td>\n",
       "      <td>3.014</td>\n",
       "      <td>42887.1</td>\n",
       "      <td>[1707118122012, 1707118122013, 1707118122013, ...</td>\n",
       "      <td>93</td>\n",
       "    </tr>\n",
       "    <tr>\n",
       "      <th>2856271</th>\n",
       "      <td>9.466</td>\n",
       "      <td>42887.0</td>\n",
       "      <td>2.674</td>\n",
       "      <td>42887.1</td>\n",
       "      <td>[1707118121813, 1707118121815, 1707118121821, ...</td>\n",
       "      <td>93</td>\n",
       "    </tr>\n",
       "  </tbody>\n",
       "</table>\n",
       "</div>"
      ],
      "text/plain": [
       "         best_bid_qty  best_bid_price  best_ask_qty  best_ask_price  \\\n",
       "2783932         9.000         42887.0         3.014         42887.1   \n",
       "2856271         9.466         42887.0         2.674         42887.1   \n",
       "\n",
       "                                          transaction_time  count  \n",
       "2783932  [1707118122012, 1707118122013, 1707118122013, ...     93  \n",
       "2856271  [1707118121813, 1707118121815, 1707118121821, ...     93  "
      ]
     },
     "execution_count": 24,
     "metadata": {},
     "output_type": "execute_result"
    }
   ],
   "source": [
    "frequent_orders = grouped_duplicated[grouped_duplicated['count'] == 93]\n",
    "frequent_orders"
   ]
  },
  {
   "cell_type": "code",
   "execution_count": null,
   "id": "b5f099d06766b3ae",
   "metadata": {
    "collapsed": false,
    "is_executing": true,
    "jupyter": {
     "outputs_hidden": false
    }
   },
   "outputs": [],
   "source": [
    "grouped_duplicated[grouped_duplicated['count'] > 93]"
   ]
  },
  {
   "cell_type": "code",
   "execution_count": 186,
   "id": "5b57cd7a87aaeabe",
   "metadata": {
    "ExecuteTime": {
     "end_time": "2024-02-19T22:10:35.446051Z",
     "start_time": "2024-02-19T22:10:35.407139Z"
    },
    "collapsed": false,
    "jupyter": {
     "outputs_hidden": false
    }
   },
   "outputs": [
    {
     "data": {
      "text/plain": [
       "[1707118122012,\n",
       " 1707118122013,\n",
       " 1707118122013,\n",
       " 1707118122014,\n",
       " 1707118122018,\n",
       " 1707118122018,\n",
       " 1707118122018,\n",
       " 1707118122026,\n",
       " 1707118122027,\n",
       " 1707118122027,\n",
       " 1707118122033,\n",
       " 1707118122034,\n",
       " 1707118122034,\n",
       " 1707118122035,\n",
       " 1707118122039,\n",
       " 1707118122039,\n",
       " 1707118122039,\n",
       " 1707118122041,\n",
       " 1707118122041,\n",
       " 1707118122042,\n",
       " 1707118122042,\n",
       " 1707118122043,\n",
       " 1707118122045,\n",
       " 1707118122046,\n",
       " 1707118122046,\n",
       " 1707118122048,\n",
       " 1707118122048,\n",
       " 1707118122048,\n",
       " 1707118122052,\n",
       " 1707118122054,\n",
       " 1707118122057,\n",
       " 1707118122057,\n",
       " 1707118122058,\n",
       " 1707118122058,\n",
       " 1707118122058,\n",
       " 1707118122058,\n",
       " 1707118122060,\n",
       " 1707118122065,\n",
       " 1707118122065,\n",
       " 1707118122067,\n",
       " 1707118122068,\n",
       " 1707118122071,\n",
       " 1707118122071,\n",
       " 1707118122071,\n",
       " 1707118122072,\n",
       " 1707118122072,\n",
       " 1707118122073,\n",
       " 1707118122073,\n",
       " 1707118122073,\n",
       " 1707118122074,\n",
       " 1707118122077,\n",
       " 1707118122077,\n",
       " 1707118122078,\n",
       " 1707118122078,\n",
       " 1707118122078,\n",
       " 1707118122078,\n",
       " 1707118122079,\n",
       " 1707118122080,\n",
       " 1707118122080,\n",
       " 1707118122080,\n",
       " 1707118122081,\n",
       " 1707118122081,\n",
       " 1707118122085,\n",
       " 1707118122088,\n",
       " 1707118122089,\n",
       " 1707118122090,\n",
       " 1707118122093,\n",
       " 1707118122094,\n",
       " 1707118122094,\n",
       " 1707118122095,\n",
       " 1707118122096,\n",
       " 1707118122096,\n",
       " 1707118122096,\n",
       " 1707118122100,\n",
       " 1707118122101,\n",
       " 1707118122102,\n",
       " 1707118122103,\n",
       " 1707118122104,\n",
       " 1707118122107,\n",
       " 1707118122107,\n",
       " 1707118122107,\n",
       " 1707118122108,\n",
       " 1707118122109,\n",
       " 1707118122110,\n",
       " 1707118122114,\n",
       " 1707118122114,\n",
       " 1707118122115,\n",
       " 1707118122116,\n",
       " 1707118122117,\n",
       " 1707118122120,\n",
       " 1707118122120,\n",
       " 1707118122121,\n",
       " 1707118122122]"
      ]
     },
     "execution_count": 186,
     "metadata": {},
     "output_type": "execute_result"
    }
   ],
   "source": [
    "d['transaction_time'][2783932]"
   ]
  },
  {
   "cell_type": "code",
   "execution_count": 188,
   "id": "36e6889280226e3c",
   "metadata": {
    "ExecuteTime": {
     "end_time": "2024-02-19T22:12:39.105325Z",
     "start_time": "2024-02-19T22:12:39.062163Z"
    },
    "collapsed": false,
    "jupyter": {
     "outputs_hidden": false
    }
   },
   "outputs": [
    {
     "data": {
      "text/plain": [
       "[1707118121813,\n",
       " 1707118121815,\n",
       " 1707118121821,\n",
       " 1707118121822,\n",
       " 1707118121822,\n",
       " 1707118121828,\n",
       " 1707118121831,\n",
       " 1707118121831,\n",
       " 1707118121834,\n",
       " 1707118121837,\n",
       " 1707118121841,\n",
       " 1707118121842,\n",
       " 1707118121844,\n",
       " 1707118121844,\n",
       " 1707118121848,\n",
       " 1707118121852,\n",
       " 1707118121852,\n",
       " 1707118121852,\n",
       " 1707118121856,\n",
       " 1707118121859,\n",
       " 1707118121860,\n",
       " 1707118121860,\n",
       " 1707118121861,\n",
       " 1707118121862,\n",
       " 1707118121864,\n",
       " 1707118121865,\n",
       " 1707118121866,\n",
       " 1707118121867,\n",
       " 1707118121867,\n",
       " 1707118121867,\n",
       " 1707118121870,\n",
       " 1707118121870,\n",
       " 1707118121870,\n",
       " 1707118121872,\n",
       " 1707118121873,\n",
       " 1707118121873,\n",
       " 1707118121876,\n",
       " 1707118121878,\n",
       " 1707118121879,\n",
       " 1707118121881,\n",
       " 1707118121881,\n",
       " 1707118121883,\n",
       " 1707118121885,\n",
       " 1707118121885,\n",
       " 1707118121885,\n",
       " 1707118121886,\n",
       " 1707118121886,\n",
       " 1707118121886,\n",
       " 1707118121887,\n",
       " 1707118121887,\n",
       " 1707118121887,\n",
       " 1707118121889,\n",
       " 1707118121890,\n",
       " 1707118121893,\n",
       " 1707118121893,\n",
       " 1707118121893,\n",
       " 1707118121893,\n",
       " 1707118121893,\n",
       " 1707118121893,\n",
       " 1707118121896,\n",
       " 1707118121900,\n",
       " 1707118121902,\n",
       " 1707118121904,\n",
       " 1707118121905,\n",
       " 1707118121905,\n",
       " 1707118121905,\n",
       " 1707118121905,\n",
       " 1707118121906,\n",
       " 1707118121908,\n",
       " 1707118121910,\n",
       " 1707118121911,\n",
       " 1707118121912,\n",
       " 1707118121912,\n",
       " 1707118121913,\n",
       " 1707118121915,\n",
       " 1707118121918,\n",
       " 1707118121921,\n",
       " 1707118121921,\n",
       " 1707118121924,\n",
       " 1707118121927,\n",
       " 1707118121927,\n",
       " 1707118121931,\n",
       " 1707118121934,\n",
       " 1707118121934,\n",
       " 1707118121934,\n",
       " 1707118121934,\n",
       " 1707118121935,\n",
       " 1707118121936,\n",
       " 1707118121938,\n",
       " 1707118121938,\n",
       " 1707118121938,\n",
       " 1707118121939,\n",
       " 1707118121940]"
      ]
     },
     "execution_count": 188,
     "metadata": {},
     "output_type": "execute_result"
    }
   ],
   "source": [
    "d['transaction_time'][2856271]"
   ]
  },
  {
   "cell_type": "code",
   "execution_count": null,
   "id": "1b2d79e8d63608ec",
   "metadata": {
    "collapsed": false,
    "jupyter": {
     "outputs_hidden": false
    }
   },
   "outputs": [],
   "source": []
  }
 ],
 "metadata": {
  "kernelspec": {
   "display_name": "Python 3 (ipykernel)",
   "language": "python",
   "name": "python3"
  },
  "language_info": {
   "codemirror_mode": {
    "name": "ipython",
    "version": 3
   },
   "file_extension": ".py",
   "mimetype": "text/x-python",
   "name": "python",
   "nbconvert_exporter": "python",
   "pygments_lexer": "ipython3",
   "version": "3.12.2"
  }
 },
 "nbformat": 4,
 "nbformat_minor": 5
}
